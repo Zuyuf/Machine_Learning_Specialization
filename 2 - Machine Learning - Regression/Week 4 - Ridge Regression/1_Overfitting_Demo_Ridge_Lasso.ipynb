{
  "nbformat": 4,
  "nbformat_minor": 0,
  "metadata": {
    "kernelspec": {
      "display_name": "Python 2",
      "language": "python",
      "name": "python2"
    },
    "language_info": {
      "codemirror_mode": {
        "name": "ipython",
        "version": 2
      },
      "file_extension": ".py",
      "mimetype": "text/x-python",
      "name": "python",
      "nbconvert_exporter": "python",
      "pygments_lexer": "ipython2",
      "version": "2.7.15"
    },
    "colab": {
      "name": "1 - Overfitting_Demo_Ridge_Lasso.ipynb",
      "provenance": [],
      "include_colab_link": true
    }
  },
  "cells": [
    {
      "cell_type": "markdown",
      "metadata": {
        "id": "view-in-github",
        "colab_type": "text"
      },
      "source": [
        "<a href=\"https://colab.research.google.com/github/Zuyuf/Machine_Learning_Specialization/blob/main/2%20-%20Machine%20Learning%20-%20Regression/Week%204%20-%20Ridge%20Regression/1_Overfitting_Demo_Ridge_Lasso.ipynb\" target=\"_parent\"><img src=\"https://colab.research.google.com/assets/colab-badge.svg\" alt=\"Open In Colab\"/></a>"
      ]
    },
    {
      "cell_type": "code",
      "metadata": {
        "id": "tRl6xAJR-ii1",
        "outputId": "60d5ce84-5546-40f2-a5ca-10d29d6ef300",
        "colab": {
          "base_uri": "https://localhost:8080/",
          "height": 1000
        }
      },
      "source": [
        "!pip install turicreate"
      ],
      "execution_count": null,
      "outputs": [
        {
          "output_type": "stream",
          "text": [
            "Collecting turicreate\n",
            "\u001b[?25l  Downloading https://files.pythonhosted.org/packages/75/38/77a081ce35f012bd4789551db9e5196e766a2641cb05114ded9cc268182c/turicreate-6.4.1-cp27-cp27mu-manylinux1_x86_64.whl (91.9MB)\n",
            "\u001b[K     |████████████████████████████████| 91.9MB 89kB/s \n",
            "\u001b[?25hCollecting pillow>=5.2.0\n",
            "\u001b[?25l  Downloading https://files.pythonhosted.org/packages/12/ad/61f8dfba88c4e56196bf6d056cdbba64dc9c5dfdfbc97d02e6472feed913/Pillow-6.2.2-cp27-cp27mu-manylinux1_x86_64.whl (2.1MB)\n",
            "\u001b[K     |████████████████████████████████| 2.1MB 47.4MB/s \n",
            "\u001b[?25hRequirement already satisfied: numpy in /usr/local/lib/python2.7/dist-packages (from turicreate) (1.16.4)\n",
            "Requirement already satisfied: requests>=2.9.1 in /usr/local/lib/python2.7/dist-packages (from turicreate) (2.23.0)\n",
            "Collecting tensorflow<2.1.0,>=2.0.0\n",
            "\u001b[?25l  Downloading https://files.pythonhosted.org/packages/17/08/1ff15637a03b1565dd6cb0916b3ca6873db3a1fc69be0ed851be936e5633/tensorflow-2.0.0-cp27-cp27mu-manylinux2010_x86_64.whl (86.3MB)\n",
            "\u001b[K     |████████████████████████████████| 86.3MB 48kB/s \n",
            "\u001b[?25hRequirement already satisfied: prettytable==0.7.2 in /usr/local/lib/python2.7/dist-packages (from turicreate) (0.7.2)\n",
            "Collecting llvmlite==0.31.0\n",
            "\u001b[?25l  Downloading https://files.pythonhosted.org/packages/91/07/90cd9cdd43b287960b16dbf7929bff2267dc0b6647e8e0117a4937b19620/llvmlite-0.31.0-cp27-cp27mu-manylinux1_x86_64.whl (20.2MB)\n",
            "\u001b[K     |████████████████████████████████| 20.2MB 1.3MB/s \n",
            "\u001b[?25hRequirement already satisfied: numba<0.51.0 in /usr/local/lib/python2.7/dist-packages (from turicreate) (0.40.1)\n",
            "Requirement already satisfied: pandas>=0.23.2 in /usr/local/lib/python2.7/dist-packages (from turicreate) (0.24.2)\n",
            "Requirement already satisfied: decorator>=4.0.9 in /usr/local/lib/python2.7/dist-packages (from turicreate) (4.4.0)\n",
            "Requirement already satisfied: scipy>=1.1.0 in /usr/local/lib/python2.7/dist-packages (from turicreate) (1.2.2)\n",
            "Requirement already satisfied: six>=1.10.0 in /usr/local/lib/python2.7/dist-packages (from turicreate) (1.15.0)\n",
            "Requirement already satisfied: resampy==0.2.1 in /usr/local/lib/python2.7/dist-packages (from turicreate) (0.2.1)\n",
            "Collecting coremltools==3.3\n",
            "\u001b[?25l  Downloading https://files.pythonhosted.org/packages/46/9b/f6feac5d9369c68ee718d3c3140435452773a36ff08ef3bcc4fe378e8676/coremltools-3.3-cp27-none-manylinux1_x86_64.whl (3.4MB)\n",
            "\u001b[K     |████████████████████████████████| 3.4MB 35.3MB/s \n",
            "\u001b[?25hRequirement already satisfied: urllib3!=1.25.0,!=1.25.1,<1.26,>=1.21.1 in /usr/local/lib/python2.7/dist-packages (from requests>=2.9.1->turicreate) (1.24.3)\n",
            "Requirement already satisfied: chardet<4,>=3.0.2 in /usr/local/lib/python2.7/dist-packages (from requests>=2.9.1->turicreate) (3.0.4)\n",
            "Requirement already satisfied: certifi>=2017.4.17 in /usr/local/lib/python2.7/dist-packages (from requests>=2.9.1->turicreate) (2019.6.16)\n",
            "Requirement already satisfied: idna<3,>=2.5 in /usr/local/lib/python2.7/dist-packages (from requests>=2.9.1->turicreate) (2.8)\n",
            "Requirement already satisfied: gast==0.2.2 in /usr/local/lib/python2.7/dist-packages (from tensorflow<2.1.0,>=2.0.0->turicreate) (0.2.2)\n",
            "Requirement already satisfied: grpcio>=1.8.6 in /usr/local/lib/python2.7/dist-packages (from tensorflow<2.1.0,>=2.0.0->turicreate) (1.15.0)\n",
            "Collecting tensorboard<2.1.0,>=2.0.0\n",
            "\u001b[?25l  Downloading https://files.pythonhosted.org/packages/a7/3d/993131c622ae34f9401a81526853f2310a4834bd042420a7982fb5bc5fd0/tensorboard-2.0.2-py2-none-any.whl (3.8MB)\n",
            "\u001b[K     |████████████████████████████████| 3.8MB 51.8MB/s \n",
            "\u001b[?25hRequirement already satisfied: wrapt>=1.11.1 in /usr/local/lib/python2.7/dist-packages (from tensorflow<2.1.0,>=2.0.0->turicreate) (1.11.2)\n",
            "Requirement already satisfied: protobuf>=3.6.1 in /usr/local/lib/python2.7/dist-packages (from tensorflow<2.1.0,>=2.0.0->turicreate) (3.8.0)\n",
            "Requirement already satisfied: keras-preprocessing>=1.0.5 in /usr/local/lib/python2.7/dist-packages (from tensorflow<2.1.0,>=2.0.0->turicreate) (1.1.0)\n",
            "Requirement already satisfied: backports.weakref>=1.0rc1; python_version < \"3.4\" in /usr/local/lib/python2.7/dist-packages (from tensorflow<2.1.0,>=2.0.0->turicreate) (1.0.post1)\n",
            "Requirement already satisfied: keras-applications>=1.0.8 in /usr/local/lib/python2.7/dist-packages (from tensorflow<2.1.0,>=2.0.0->turicreate) (1.0.8)\n",
            "Requirement already satisfied: wheel in /usr/local/lib/python2.7/dist-packages (from tensorflow<2.1.0,>=2.0.0->turicreate) (0.35.1)\n",
            "Requirement already satisfied: functools32>=3.2.3 in /usr/local/lib/python2.7/dist-packages (from tensorflow<2.1.0,>=2.0.0->turicreate) (3.2.3.post2)\n",
            "Requirement already satisfied: mock>=2.0.0 in /usr/local/lib/python2.7/dist-packages (from tensorflow<2.1.0,>=2.0.0->turicreate) (2.0.0)\n",
            "Requirement already satisfied: absl-py>=0.7.0 in /usr/local/lib/python2.7/dist-packages (from tensorflow<2.1.0,>=2.0.0->turicreate) (0.7.1)\n",
            "Requirement already satisfied: opt-einsum>=2.3.2 in /usr/local/lib/python2.7/dist-packages (from tensorflow<2.1.0,>=2.0.0->turicreate) (2.3.2)\n",
            "Requirement already satisfied: termcolor>=1.1.0 in /usr/local/lib/python2.7/dist-packages (from tensorflow<2.1.0,>=2.0.0->turicreate) (1.1.0)\n",
            "Requirement already satisfied: google-pasta>=0.1.6 in /usr/local/lib/python2.7/dist-packages (from tensorflow<2.1.0,>=2.0.0->turicreate) (0.1.7)\n",
            "Requirement already satisfied: enum34>=1.1.6; python_version < \"3.4\" in /usr/local/lib/python2.7/dist-packages (from tensorflow<2.1.0,>=2.0.0->turicreate) (1.1.6)\n",
            "Collecting tensorflow-estimator<2.1.0,>=2.0.0\n",
            "\u001b[?25l  Downloading https://files.pythonhosted.org/packages/fc/08/8b927337b7019c374719145d1dceba21a8bb909b93b1ad6f8fb7d22c1ca1/tensorflow_estimator-2.0.1-py2.py3-none-any.whl (449kB)\n",
            "\u001b[K     |████████████████████████████████| 450kB 54.1MB/s \n",
            "\u001b[?25hRequirement already satisfied: astor>=0.6.0 in /usr/local/lib/python2.7/dist-packages (from tensorflow<2.1.0,>=2.0.0->turicreate) (0.8.0)\n",
            "Requirement already satisfied: funcsigs in /usr/local/lib/python2.7/dist-packages (from numba<0.51.0->turicreate) (1.0.2)\n",
            "Requirement already satisfied: singledispatch in /usr/local/lib/python2.7/dist-packages (from numba<0.51.0->turicreate) (3.4.0.3)\n",
            "Requirement already satisfied: pytz>=2011k in /usr/local/lib/python2.7/dist-packages (from pandas>=0.23.2->turicreate) (2018.9)\n",
            "Requirement already satisfied: python-dateutil>=2.5.0 in /usr/local/lib/python2.7/dist-packages (from pandas>=0.23.2->turicreate) (2.5.3)\n",
            "Requirement already satisfied: futures>=2.2.0 in /usr/local/lib/python2.7/dist-packages (from grpcio>=1.8.6->tensorflow<2.1.0,>=2.0.0->turicreate) (3.2.0)\n",
            "Requirement already satisfied: setuptools>=41.0.0 in /usr/local/lib/python2.7/dist-packages (from tensorboard<2.1.0,>=2.0.0->tensorflow<2.1.0,>=2.0.0->turicreate) (44.1.1)\n",
            "Collecting google-auth-oauthlib<0.5,>=0.4.1\n",
            "  Downloading https://files.pythonhosted.org/packages/7b/b8/88def36e74bee9fce511c9519571f4e485e890093ab7442284f4ffaef60b/google_auth_oauthlib-0.4.1-py2.py3-none-any.whl\n",
            "Requirement already satisfied: werkzeug>=0.11.15 in /usr/local/lib/python2.7/dist-packages (from tensorboard<2.1.0,>=2.0.0->tensorflow<2.1.0,>=2.0.0->turicreate) (0.15.5)\n",
            "Requirement already satisfied: google-auth<2,>=1.6.3 in /usr/local/lib/python2.7/dist-packages (from tensorboard<2.1.0,>=2.0.0->tensorflow<2.1.0,>=2.0.0->turicreate) (1.17.2)\n",
            "Requirement already satisfied: markdown>=2.6.8 in /usr/local/lib/python2.7/dist-packages (from tensorboard<2.1.0,>=2.0.0->tensorflow<2.1.0,>=2.0.0->turicreate) (3.1.1)\n",
            "Requirement already satisfied: h5py in /usr/local/lib/python2.7/dist-packages (from keras-applications>=1.0.8->tensorflow<2.1.0,>=2.0.0->turicreate) (2.8.0)\n",
            "Requirement already satisfied: pbr>=0.11 in /usr/local/lib/python2.7/dist-packages (from mock>=2.0.0->tensorflow<2.1.0,>=2.0.0->turicreate) (5.4.0)\n",
            "Requirement already satisfied: requests-oauthlib>=0.7.0 in /usr/local/lib/python2.7/dist-packages (from google-auth-oauthlib<0.5,>=0.4.1->tensorboard<2.1.0,>=2.0.0->tensorflow<2.1.0,>=2.0.0->turicreate) (1.2.0)\n",
            "Requirement already satisfied: cachetools<5.0,>=2.0.0 in /usr/local/lib/python2.7/dist-packages (from google-auth<2,>=1.6.3->tensorboard<2.1.0,>=2.0.0->tensorflow<2.1.0,>=2.0.0->turicreate) (3.1.1)\n",
            "Requirement already satisfied: rsa<4.1; python_version < \"3\" in /usr/local/lib/python2.7/dist-packages (from google-auth<2,>=1.6.3->tensorboard<2.1.0,>=2.0.0->tensorflow<2.1.0,>=2.0.0->turicreate) (4.0)\n",
            "Requirement already satisfied: pyasn1-modules>=0.2.1 in /usr/local/lib/python2.7/dist-packages (from google-auth<2,>=1.6.3->tensorboard<2.1.0,>=2.0.0->tensorflow<2.1.0,>=2.0.0->turicreate) (0.2.5)\n",
            "Requirement already satisfied: oauthlib>=3.0.0 in /usr/local/lib/python2.7/dist-packages (from requests-oauthlib>=0.7.0->google-auth-oauthlib<0.5,>=0.4.1->tensorboard<2.1.0,>=2.0.0->tensorflow<2.1.0,>=2.0.0->turicreate) (3.0.2)\n",
            "Requirement already satisfied: pyasn1>=0.1.3 in /usr/local/lib/python2.7/dist-packages (from rsa<4.1; python_version < \"3\"->google-auth<2,>=1.6.3->tensorboard<2.1.0,>=2.0.0->tensorflow<2.1.0,>=2.0.0->turicreate) (0.4.5)\n",
            "\u001b[31mERROR: fastai 0.7.0 has requirement torch<0.4, but you'll have torch 1.4.0 which is incompatible.\u001b[0m\n",
            "\u001b[31mERROR: tensorboard 2.0.2 has requirement grpcio>=1.24.3, but you'll have grpcio 1.15.0 which is incompatible.\u001b[0m\n",
            "Installing collected packages: pillow, google-auth-oauthlib, tensorboard, tensorflow-estimator, tensorflow, llvmlite, coremltools, turicreate\n",
            "  Found existing installation: Pillow 4.3.0\n",
            "    Uninstalling Pillow-4.3.0:\n",
            "      Successfully uninstalled Pillow-4.3.0\n",
            "  Found existing installation: google-auth-oauthlib 0.4.0\n",
            "    Uninstalling google-auth-oauthlib-0.4.0:\n",
            "      Successfully uninstalled google-auth-oauthlib-0.4.0\n",
            "  Found existing installation: tensorboard 2.1.0\n",
            "    Uninstalling tensorboard-2.1.0:\n",
            "      Successfully uninstalled tensorboard-2.1.0\n",
            "  Found existing installation: tensorflow-estimator 1.15.0\n",
            "    Uninstalling tensorflow-estimator-1.15.0:\n",
            "      Successfully uninstalled tensorflow-estimator-1.15.0\n",
            "  Found existing installation: tensorflow 2.1.0\n",
            "    Uninstalling tensorflow-2.1.0:\n",
            "      Successfully uninstalled tensorflow-2.1.0\n",
            "  Found existing installation: llvmlite 0.29.0\n",
            "    Uninstalling llvmlite-0.29.0:\n",
            "      Successfully uninstalled llvmlite-0.29.0\n",
            "Successfully installed coremltools-3.3 google-auth-oauthlib-0.4.1 llvmlite-0.31.0 pillow-6.2.2 tensorboard-2.0.2 tensorflow-2.0.0 tensorflow-estimator-2.0.1 turicreate-6.4.1\n"
          ],
          "name": "stdout"
        },
        {
          "output_type": "display_data",
          "data": {
            "application/vnd.colab-display-data+json": {
              "pip_warning": {
                "packages": [
                  "PIL"
                ]
              }
            }
          },
          "metadata": {
            "tags": []
          }
        }
      ]
    },
    {
      "cell_type": "markdown",
      "metadata": {
        "id": "6XNzq0N0-VcV"
      },
      "source": [
        "# Overfitting demo\n",
        "\n",
        "## Create a dataset based on a true sinusoidal relationship\n",
        "Let's look at a synthetic dataset consisting of 30 points drawn from the sinusoid $y = \\sin(4x)$:"
      ]
    },
    {
      "cell_type": "code",
      "metadata": {
        "id": "nckQZS4Z-VcW"
      },
      "source": [
        "import turicreate\n",
        "import math\n",
        "import random\n",
        "import numpy\n",
        "from matplotlib import pyplot as plt\n",
        "%matplotlib inline"
      ],
      "execution_count": null,
      "outputs": []
    },
    {
      "cell_type": "markdown",
      "metadata": {
        "id": "rZf83e0k-VcY"
      },
      "source": [
        "Create random values for x in interval [0,1)"
      ]
    },
    {
      "cell_type": "code",
      "metadata": {
        "id": "tsrerunp-VcZ"
      },
      "source": [
        "random.seed(98103)\n",
        "n = 30\n",
        "x = turicreate.SArray([random.random() for i in range(n)]).sort()"
      ],
      "execution_count": null,
      "outputs": []
    },
    {
      "cell_type": "markdown",
      "metadata": {
        "id": "aLjh1fkR-Vcb"
      },
      "source": [
        "Compute y"
      ]
    },
    {
      "cell_type": "code",
      "metadata": {
        "id": "sdAYIH9N-Vcb"
      },
      "source": [
        "y = x.apply(lambda x: math.sin(4*x))"
      ],
      "execution_count": null,
      "outputs": []
    },
    {
      "cell_type": "markdown",
      "metadata": {
        "id": "JMWG7eki-Vcd"
      },
      "source": [
        "Add random Gaussian noise to y"
      ]
    },
    {
      "cell_type": "code",
      "metadata": {
        "id": "y1OmaduR-Vce"
      },
      "source": [
        "random.seed(1)\n",
        "e = turicreate.SArray([random.gauss(0,1.0/3.0) for i in range(n)])\n",
        "y = y + e"
      ],
      "execution_count": null,
      "outputs": []
    },
    {
      "cell_type": "markdown",
      "metadata": {
        "id": "lIl6TVt0-Vcg"
      },
      "source": [
        "### Put data into an SFrame to manipulate later"
      ]
    },
    {
      "cell_type": "code",
      "metadata": {
        "id": "c24Mw7ZZ-Vcg",
        "outputId": "3b46cc08-9de2-4694-f404-4ee400618bf1",
        "colab": {
          "base_uri": "https://localhost:8080/",
          "height": 271
        }
      },
      "source": [
        "data = turicreate.SFrame({'X1':x,'Y':y})\n",
        "data"
      ],
      "execution_count": null,
      "outputs": [
        {
          "output_type": "execute_result",
          "data": {
            "text/plain": [
              "Columns:\n",
              "\tX1\tfloat\n",
              "\tY\tfloat\n",
              "\n",
              "Rows: 30\n",
              "\n",
              "Data:\n",
              "+-----------------+----------------+\n",
              "|        X1       |       Y        |\n",
              "+-----------------+----------------+\n",
              "| 0.0395789449501 | 0.587050191026 |\n",
              "| 0.0415680996791 | 0.648655851372 |\n",
              "| 0.0724319480801 | 0.307803309485 |\n",
              "|  0.150289044622 | 0.310748447417 |\n",
              "|  0.161334144502 | 0.237409625496 |\n",
              "|  0.191956312795 | 0.705017157224 |\n",
              "|  0.232833917145 | 0.461716676992 |\n",
              "|  0.259900980166 | 0.383260507851 |\n",
              "|  0.380145814869 | 1.06517691429  |\n",
              "|  0.432444723508 | 1.03184706949  |\n",
              "+-----------------+----------------+\n",
              "[30 rows x 2 columns]\n",
              "Note: Only the head of the SFrame is printed.\n",
              "You can use print_rows(num_rows=m, num_columns=n) to print more rows and columns."
            ],
            "text/html": [
              "<div style=\"max-height:1000px;max-width:1500px;overflow:auto;\"><table frame=\"box\" rules=\"cols\">\n",
              "    <tr>\n",
              "        <th style=\"padding-left: 1em; padding-right: 1em; text-align: center\">X1</th>\n",
              "        <th style=\"padding-left: 1em; padding-right: 1em; text-align: center\">Y</th>\n",
              "    </tr>\n",
              "    <tr>\n",
              "        <td style=\"padding-left: 1em; padding-right: 1em; text-align: center; vertical-align: top\">0.0395789449501</td>\n",
              "        <td style=\"padding-left: 1em; padding-right: 1em; text-align: center; vertical-align: top\">0.587050191026</td>\n",
              "    </tr>\n",
              "    <tr>\n",
              "        <td style=\"padding-left: 1em; padding-right: 1em; text-align: center; vertical-align: top\">0.0415680996791</td>\n",
              "        <td style=\"padding-left: 1em; padding-right: 1em; text-align: center; vertical-align: top\">0.648655851372</td>\n",
              "    </tr>\n",
              "    <tr>\n",
              "        <td style=\"padding-left: 1em; padding-right: 1em; text-align: center; vertical-align: top\">0.0724319480801</td>\n",
              "        <td style=\"padding-left: 1em; padding-right: 1em; text-align: center; vertical-align: top\">0.307803309485</td>\n",
              "    </tr>\n",
              "    <tr>\n",
              "        <td style=\"padding-left: 1em; padding-right: 1em; text-align: center; vertical-align: top\">0.150289044622</td>\n",
              "        <td style=\"padding-left: 1em; padding-right: 1em; text-align: center; vertical-align: top\">0.310748447417</td>\n",
              "    </tr>\n",
              "    <tr>\n",
              "        <td style=\"padding-left: 1em; padding-right: 1em; text-align: center; vertical-align: top\">0.161334144502</td>\n",
              "        <td style=\"padding-left: 1em; padding-right: 1em; text-align: center; vertical-align: top\">0.237409625496</td>\n",
              "    </tr>\n",
              "    <tr>\n",
              "        <td style=\"padding-left: 1em; padding-right: 1em; text-align: center; vertical-align: top\">0.191956312795</td>\n",
              "        <td style=\"padding-left: 1em; padding-right: 1em; text-align: center; vertical-align: top\">0.705017157224</td>\n",
              "    </tr>\n",
              "    <tr>\n",
              "        <td style=\"padding-left: 1em; padding-right: 1em; text-align: center; vertical-align: top\">0.232833917145</td>\n",
              "        <td style=\"padding-left: 1em; padding-right: 1em; text-align: center; vertical-align: top\">0.461716676992</td>\n",
              "    </tr>\n",
              "    <tr>\n",
              "        <td style=\"padding-left: 1em; padding-right: 1em; text-align: center; vertical-align: top\">0.259900980166</td>\n",
              "        <td style=\"padding-left: 1em; padding-right: 1em; text-align: center; vertical-align: top\">0.383260507851</td>\n",
              "    </tr>\n",
              "    <tr>\n",
              "        <td style=\"padding-left: 1em; padding-right: 1em; text-align: center; vertical-align: top\">0.380145814869</td>\n",
              "        <td style=\"padding-left: 1em; padding-right: 1em; text-align: center; vertical-align: top\">1.06517691429</td>\n",
              "    </tr>\n",
              "    <tr>\n",
              "        <td style=\"padding-left: 1em; padding-right: 1em; text-align: center; vertical-align: top\">0.432444723508</td>\n",
              "        <td style=\"padding-left: 1em; padding-right: 1em; text-align: center; vertical-align: top\">1.03184706949</td>\n",
              "    </tr>\n",
              "</table>\n",
              "[30 rows x 2 columns]<br/>Note: Only the head of the SFrame is printed.<br/>You can use print_rows(num_rows=m, num_columns=n) to print more rows and columns.\n",
              "</div>"
            ]
          },
          "metadata": {
            "tags": []
          },
          "execution_count": 8
        }
      ]
    },
    {
      "cell_type": "markdown",
      "metadata": {
        "id": "quFt_UR9-Vcj"
      },
      "source": [
        "### Create a function to plot the data, since we'll do it many times"
      ]
    },
    {
      "cell_type": "code",
      "metadata": {
        "id": "CSQHigbH-Vcj",
        "outputId": "81c2a4c4-4c3b-4ab8-b32b-1fa8d75c865a",
        "colab": {
          "base_uri": "https://localhost:8080/",
          "height": 283
        }
      },
      "source": [
        "def plot_data(data):    \n",
        "    plt.plot(data['X1'],data['Y'],'k.')\n",
        "    plt.xlabel('x')\n",
        "    plt.ylabel('y')\n",
        "\n",
        "plot_data(data)"
      ],
      "execution_count": null,
      "outputs": [
        {
          "output_type": "display_data",
          "data": {
            "image/png": "[encoded data removed]",
            "text/plain": [
              "<Figure size 432x288 with 1 Axes>"
            ]
          },
          "metadata": {
            "tags": [],
            "needs_background": "light"
          }
        }
      ]
    },
    {
      "cell_type": "markdown",
      "metadata": {
        "id": "-O2v2PNT-Vcl"
      },
      "source": [
        "## Define some useful polynomial regression functions"
      ]
    },
    {
      "cell_type": "markdown",
      "metadata": {
        "id": "rJF_ITaK-Vcm"
      },
      "source": [
        "Define a function to create our features for a polynomial regression model of any degree:"
      ]
    },
    {
      "cell_type": "code",
      "metadata": {
        "id": "r7xMrqbw-Vcm",
        "outputId": "440f1d5d-70bf-4b97-d609-0a9f116a1d90",
        "colab": {
          "base_uri": "https://localhost:8080/",
          "height": 271
        }
      },
      "source": [
        "def polynomial_features(data, deg):\n",
        "    data_copy=data.copy()\n",
        "    for i in range(1,deg):\n",
        "        data_copy['X'+str(i+1)]=data_copy['X'+str(i)]*data_copy['X1']\n",
        "    return data_copy\n",
        "\n",
        "# Example: Adding columns for x^2 and x^3\n",
        "polynomial_features(data, 3)"
      ],
      "execution_count": null,
      "outputs": [
        {
          "output_type": "execute_result",
          "data": {
            "text/plain": [
              "Columns:\n",
              "\tX1\tfloat\n",
              "\tY\tfloat\n",
              "\tX2\tfloat\n",
              "\tX3\tfloat\n",
              "\n",
              "Rows: 30\n",
              "\n",
              "Data:\n",
              "+-----------------+----------------+------------------+-------------------+\n",
              "|        X1       |       Y        |        X2        |         X3        |\n",
              "+-----------------+----------------+------------------+-------------------+\n",
              "| 0.0395789449501 | 0.587050191026 | 0.00156649288336 | 6.20001355952e-05 |\n",
              "| 0.0415680996791 | 0.648655851372 | 0.00172790691093 | 7.18258067099e-05 |\n",
              "| 0.0724319480801 | 0.307803309485 | 0.00524638710267 | 0.000380006038229 |\n",
              "|  0.150289044622 | 0.310748447417 | 0.0225867969334  |  0.0033945481322  |\n",
              "|  0.161334144502 | 0.237409625496 | 0.0260287061823  |  0.00419931904442 |\n",
              "|  0.191956312795 | 0.705017157224 | 0.0368472260218  |  0.00707305764388 |\n",
              "|  0.232833917145 | 0.461716676992 | 0.0542116329729  |  0.0126223068599  |\n",
              "|  0.259900980166 | 0.383260507851 | 0.0675485194911  |  0.0175559264245  |\n",
              "|  0.380145814869 | 1.06517691429  |  0.144510840562  |  0.0549351912429  |\n",
              "|  0.432444723508 | 1.03184706949  |  0.18700843889   |  0.0808708126494  |\n",
              "+-----------------+----------------+------------------+-------------------+\n",
              "[30 rows x 4 columns]\n",
              "Note: Only the head of the SFrame is printed.\n",
              "You can use print_rows(num_rows=m, num_columns=n) to print more rows and columns."
            ],
            "text/html": [
              "<div style=\"max-height:1000px;max-width:1500px;overflow:auto;\"><table frame=\"box\" rules=\"cols\">\n",
              "    <tr>\n",
              "        <th style=\"padding-left: 1em; padding-right: 1em; text-align: center\">X1</th>\n",
              "        <th style=\"padding-left: 1em; padding-right: 1em; text-align: center\">Y</th>\n",
              "        <th style=\"padding-left: 1em; padding-right: 1em; text-align: center\">X2</th>\n",
              "        <th style=\"padding-left: 1em; padding-right: 1em; text-align: center\">X3</th>\n",
              "    </tr>\n",
              "    <tr>\n",
              "        <td style=\"padding-left: 1em; padding-right: 1em; text-align: center; vertical-align: top\">0.0395789449501</td>\n",
              "        <td style=\"padding-left: 1em; padding-right: 1em; text-align: center; vertical-align: top\">0.587050191026</td>\n",
              "        <td style=\"padding-left: 1em; padding-right: 1em; text-align: center; vertical-align: top\">0.00156649288336</td>\n",
              "        <td style=\"padding-left: 1em; padding-right: 1em; text-align: center; vertical-align: top\">6.20001355952e-05</td>\n",
              "    </tr>\n",
              "    <tr>\n",
              "        <td style=\"padding-left: 1em; padding-right: 1em; text-align: center; vertical-align: top\">0.0415680996791</td>\n",
              "        <td style=\"padding-left: 1em; padding-right: 1em; text-align: center; vertical-align: top\">0.648655851372</td>\n",
              "        <td style=\"padding-left: 1em; padding-right: 1em; text-align: center; vertical-align: top\">0.00172790691093</td>\n",
              "        <td style=\"padding-left: 1em; padding-right: 1em; text-align: center; vertical-align: top\">7.18258067099e-05</td>\n",
              "    </tr>\n",
              "    <tr>\n",
              "        <td style=\"padding-left: 1em; padding-right: 1em; text-align: center; vertical-align: top\">0.0724319480801</td>\n",
              "        <td style=\"padding-left: 1em; padding-right: 1em; text-align: center; vertical-align: top\">0.307803309485</td>\n",
              "        <td style=\"padding-left: 1em; padding-right: 1em; text-align: center; vertical-align: top\">0.00524638710267</td>\n",
              "        <td style=\"padding-left: 1em; padding-right: 1em; text-align: center; vertical-align: top\">0.000380006038229</td>\n",
              "    </tr>\n",
              "    <tr>\n",
              "        <td style=\"padding-left: 1em; padding-right: 1em; text-align: center; vertical-align: top\">0.150289044622</td>\n",
              "        <td style=\"padding-left: 1em; padding-right: 1em; text-align: center; vertical-align: top\">0.310748447417</td>\n",
              "        <td style=\"padding-left: 1em; padding-right: 1em; text-align: center; vertical-align: top\">0.0225867969334</td>\n",
              "        <td style=\"padding-left: 1em; padding-right: 1em; text-align: center; vertical-align: top\">0.0033945481322</td>\n",
              "    </tr>\n",
              "    <tr>\n",
              "        <td style=\"padding-left: 1em; padding-right: 1em; text-align: center; vertical-align: top\">0.161334144502</td>\n",
              "        <td style=\"padding-left: 1em; padding-right: 1em; text-align: center; vertical-align: top\">0.237409625496</td>\n",
              "        <td style=\"padding-left: 1em; padding-right: 1em; text-align: center; vertical-align: top\">0.0260287061823</td>\n",
              "        <td style=\"padding-left: 1em; padding-right: 1em; text-align: center; vertical-align: top\">0.00419931904442</td>\n",
              "    </tr>\n",
              "    <tr>\n",
              "        <td style=\"padding-left: 1em; padding-right: 1em; text-align: center; vertical-align: top\">0.191956312795</td>\n",
              "        <td style=\"padding-left: 1em; padding-right: 1em; text-align: center; vertical-align: top\">0.705017157224</td>\n",
              "        <td style=\"padding-left: 1em; padding-right: 1em; text-align: center; vertical-align: top\">0.0368472260218</td>\n",
              "        <td style=\"padding-left: 1em; padding-right: 1em; text-align: center; vertical-align: top\">0.00707305764388</td>\n",
              "    </tr>\n",
              "    <tr>\n",
              "        <td style=\"padding-left: 1em; padding-right: 1em; text-align: center; vertical-align: top\">0.232833917145</td>\n",
              "        <td style=\"padding-left: 1em; padding-right: 1em; text-align: center; vertical-align: top\">0.461716676992</td>\n",
              "        <td style=\"padding-left: 1em; padding-right: 1em; text-align: center; vertical-align: top\">0.0542116329729</td>\n",
              "        <td style=\"padding-left: 1em; padding-right: 1em; text-align: center; vertical-align: top\">0.0126223068599</td>\n",
              "    </tr>\n",
              "    <tr>\n",
              "        <td style=\"padding-left: 1em; padding-right: 1em; text-align: center; vertical-align: top\">0.259900980166</td>\n",
              "        <td style=\"padding-left: 1em; padding-right: 1em; text-align: center; vertical-align: top\">0.383260507851</td>\n",
              "        <td style=\"padding-left: 1em; padding-right: 1em; text-align: center; vertical-align: top\">0.0675485194911</td>\n",
              "        <td style=\"padding-left: 1em; padding-right: 1em; text-align: center; vertical-align: top\">0.0175559264245</td>\n",
              "    </tr>\n",
              "    <tr>\n",
              "        <td style=\"padding-left: 1em; padding-right: 1em; text-align: center; vertical-align: top\">0.380145814869</td>\n",
              "        <td style=\"padding-left: 1em; padding-right: 1em; text-align: center; vertical-align: top\">1.06517691429</td>\n",
              "        <td style=\"padding-left: 1em; padding-right: 1em; text-align: center; vertical-align: top\">0.144510840562</td>\n",
              "        <td style=\"padding-left: 1em; padding-right: 1em; text-align: center; vertical-align: top\">0.0549351912429</td>\n",
              "    </tr>\n",
              "    <tr>\n",
              "        <td style=\"padding-left: 1em; padding-right: 1em; text-align: center; vertical-align: top\">0.432444723508</td>\n",
              "        <td style=\"padding-left: 1em; padding-right: 1em; text-align: center; vertical-align: top\">1.03184706949</td>\n",
              "        <td style=\"padding-left: 1em; padding-right: 1em; text-align: center; vertical-align: top\">0.18700843889</td>\n",
              "        <td style=\"padding-left: 1em; padding-right: 1em; text-align: center; vertical-align: top\">0.0808708126494</td>\n",
              "    </tr>\n",
              "</table>\n",
              "[30 rows x 4 columns]<br/>Note: Only the head of the SFrame is printed.<br/>You can use print_rows(num_rows=m, num_columns=n) to print more rows and columns.\n",
              "</div>"
            ]
          },
          "metadata": {
            "tags": []
          },
          "execution_count": 10
        }
      ]
    },
    {
      "cell_type": "markdown",
      "metadata": {
        "id": "eMRGcD4A-Vco"
      },
      "source": [
        "Define a function to fit a polynomial linear regression model of degree \"deg\" to the data in \"data\":"
      ]
    },
    {
      "cell_type": "code",
      "metadata": {
        "id": "FaexIg2P-Vcp"
      },
      "source": [
        "def polynomial_regression(data, deg):\n",
        "    model = turicreate.linear_regression.create(\n",
        "        polynomial_features(data,deg), \n",
        "        target='Y',\n",
        "        l2_penalty=0.,\n",
        "        l1_penalty=0.,\n",
        "        validation_set=None,\n",
        "        verbose=False)\n",
        "    return model"
      ],
      "execution_count": null,
      "outputs": []
    },
    {
      "cell_type": "markdown",
      "metadata": {
        "id": "H41ftCye-Vcq"
      },
      "source": [
        "Define function to plot data and predictions made, since we are going to use it many times."
      ]
    },
    {
      "cell_type": "code",
      "metadata": {
        "id": "9i7jGomN-Vcr"
      },
      "source": [
        "def plot_poly_predictions(data, model):\n",
        "    plot_data(data)\n",
        "\n",
        "    # Get the degree of the polynomial\n",
        "    deg = len(model.coefficients['value'])-1\n",
        "    \n",
        "    # Create 200 points in the x axis and compute the predicted value for each point\n",
        "    x_pred = turicreate.SFrame({'X1':[i/200.0 for i in range(200)]})\n",
        "    y_pred = model.predict(polynomial_features(x_pred,deg))\n",
        "    \n",
        "    # plot predictions\n",
        "    plt.plot(x_pred['X1'], y_pred, 'g-', label='degree ' + str(deg) + ' fit')\n",
        "    plt.legend(loc='upper left')\n",
        "    plt.axis([0,1,-1.5,2])"
      ],
      "execution_count": null,
      "outputs": []
    },
    {
      "cell_type": "markdown",
      "metadata": {
        "id": "1fiqVV2f-Vcs"
      },
      "source": [
        "Create a function that prints the polynomial coefficients in a pretty way :)"
      ]
    },
    {
      "cell_type": "code",
      "metadata": {
        "id": "yDLdksjv-Vct"
      },
      "source": [
        "def print_coefficients(model):    \n",
        "    # Get the degree of the polynomial\n",
        "    deg = len(model.coefficients['value'])-1\n",
        "\n",
        "    # Get learned parameters as a list\n",
        "    w = list(model.coefficients['value'])\n",
        "\n",
        "    # Numpy has a nifty function to print out polynomials in a pretty way\n",
        "    # (We'll use it, but it needs the parameters in the reverse order)\n",
        "    print 'Learned polynomial for degree ' + str(deg) + ':'\n",
        "    w.reverse()\n",
        "    print numpy.poly1d(w)"
      ],
      "execution_count": null,
      "outputs": []
    },
    {
      "cell_type": "markdown",
      "metadata": {
        "id": "uOaLCVLC-Vcv"
      },
      "source": [
        "## Fit a degree-2 polynomial"
      ]
    },
    {
      "cell_type": "markdown",
      "metadata": {
        "id": "yX0FlIl2-Vcv"
      },
      "source": [
        "Fit our degree-2 polynomial to the data generated above:"
      ]
    },
    {
      "cell_type": "code",
      "metadata": {
        "id": "yweXtLQq-Vcw"
      },
      "source": [
        "model = polynomial_regression(data, deg=2)"
      ],
      "execution_count": null,
      "outputs": []
    },
    {
      "cell_type": "markdown",
      "metadata": {
        "id": "Dd487lrL-Vcy"
      },
      "source": [
        "Inspect learned parameters"
      ]
    },
    {
      "cell_type": "code",
      "metadata": {
        "id": "FtPT0cOX-Vcy",
        "outputId": "8ff7f118-d362-4fea-a769-227aa04c3cdb",
        "colab": {
          "base_uri": "https://localhost:8080/"
        }
      },
      "source": [
        "print_coefficients(model)"
      ],
      "execution_count": null,
      "outputs": [
        {
          "output_type": "stream",
          "text": [
            "Learned polynomial for degree 2:\n",
            "        2\n",
            "-5.129 x + 4.147 x + 0.07471\n"
          ],
          "name": "stdout"
        }
      ]
    },
    {
      "cell_type": "markdown",
      "metadata": {
        "id": "hMWlmWC1-Vc0"
      },
      "source": [
        "Form and plot our predictions along a grid of x values:"
      ]
    },
    {
      "cell_type": "code",
      "metadata": {
        "id": "2C57l5L3-Vc0",
        "outputId": "45b54518-23b2-458d-c31a-cb517c7f0c30",
        "colab": {
          "base_uri": "https://localhost:8080/"
        }
      },
      "source": [
        "plot_poly_predictions(data,model)"
      ],
      "execution_count": null,
      "outputs": [
        {
          "output_type": "display_data",
          "data": {
            "image/png": "[encoded data removed]",
            "text/plain": [
              "<Figure size 432x288 with 1 Axes>"
            ]
          },
          "metadata": {
            "tags": [],
            "needs_background": "light"
          }
        }
      ]
    },
    {
      "cell_type": "markdown",
      "metadata": {
        "collapsed": true,
        "id": "vZrAO-nq-Vc2"
      },
      "source": [
        "## Fit a degree-4 polynomial"
      ]
    },
    {
      "cell_type": "code",
      "metadata": {
        "id": "OpnHuCSj-Vc2",
        "outputId": "a378ed6f-b0f2-47e7-f96b-7ffa49fbe3bb",
        "colab": {
          "base_uri": "https://localhost:8080/"
        }
      },
      "source": [
        "model = polynomial_regression(data, deg=4)\n",
        "print_coefficients(model)\n",
        "plot_poly_predictions(data,model)"
      ],
      "execution_count": null,
      "outputs": [
        {
          "output_type": "stream",
          "text": [
            "Learned polynomial for degree 4:\n",
            "       4         3         2\n",
            "23.87 x - 53.82 x + 35.23 x - 6.828 x + 0.7755\n"
          ],
          "name": "stdout"
        },
        {
          "output_type": "display_data",
          "data": {
            "image/png": "[encoded data removed]",
            "text/plain": [
              "<Figure size 432x288 with 1 Axes>"
            ]
          },
          "metadata": {
            "tags": [],
            "needs_background": "light"
          }
        }
      ]
    },
    {
      "cell_type": "markdown",
      "metadata": {
        "id": "oKCvrN0Q-Vc4"
      },
      "source": [
        "## Fit a degree-16 polynomial"
      ]
    },
    {
      "cell_type": "code",
      "metadata": {
        "id": "6YGppDlN-Vc5",
        "outputId": "06595536-fb1d-4825-9f63-5ea995528867",
        "colab": {
          "base_uri": "https://localhost:8080/",
          "height": 168
        }
      },
      "source": [
        "model = polynomial_regression(data, deg=16)\n",
        "print_coefficients(model)"
      ],
      "execution_count": null,
      "outputs": [
        {
          "output_type": "stream",
          "text": [
            "Learned polynomial for degree 16:\n",
            "            16             15             14             13\n",
            "-2.004e+06 x  + 6.675e+06 x  - 3.762e+06 x  - 1.185e+07 x \n",
            "              12             11             10             9\n",
            " + 1.946e+07 x  - 5.332e+06 x  - 1.012e+07 x  + 9.083e+06 x\n",
            "              8             7             6             5             4\n",
            " - 7.702e+05 x - 2.731e+06 x + 1.844e+06 x - 5.951e+05 x + 1.138e+05 x\n",
            "              3        2\n",
            " - 1.412e+04 x + 1227 x - 70.96 x + 2.171\n"
          ],
          "name": "stdout"
        }
      ]
    },
    {
      "cell_type": "markdown",
      "metadata": {
        "id": "2hYsM7Ke-Vc7"
      },
      "source": [
        "### Woah!!!!  Those coefficients are *crazy*!  On the order of 10^6."
      ]
    },
    {
      "cell_type": "code",
      "metadata": {
        "id": "a_rFhcaB-Vc7",
        "outputId": "702aea8e-455c-4219-d306-7fac71104dd2",
        "colab": {
          "base_uri": "https://localhost:8080/",
          "height": 283
        }
      },
      "source": [
        "plot_poly_predictions(data,model)"
      ],
      "execution_count": null,
      "outputs": [
        {
          "output_type": "display_data",
          "data": {
            "image/png": "[encoded data removed]",
            "text/plain": [
              "<Figure size 432x288 with 1 Axes>"
            ]
          },
          "metadata": {
            "tags": [],
            "needs_background": "light"
          }
        }
      ]
    },
    {
      "cell_type": "markdown",
      "metadata": {
        "id": "tVJ8HdMY-Vc9"
      },
      "source": [
        "### Above: Fit looks pretty wild, too.  Here's a clear example of how overfitting is associated with very large magnitude estimated coefficients."
      ]
    },
    {
      "cell_type": "markdown",
      "metadata": {
        "collapsed": true,
        "id": "pPMfmPT3-Vc9"
      },
      "source": [
        "# Ridge Regression"
      ]
    },
    {
      "cell_type": "markdown",
      "metadata": {
        "id": "OcDdTLgj-Vc9"
      },
      "source": [
        "Ridge regression aims to avoid overfitting by adding a cost to the RSS term of standard least squares that depends on the 2-norm of the coefficients $\\|w\\|$.  The result is penalizing fits with large coefficients.  The strength of this penalty, and thus the fit vs. model complexity balance, is controled by a parameter lambda (here called \"L2_penalty\")."
      ]
    },
    {
      "cell_type": "markdown",
      "metadata": {
        "id": "riq5hOBz-Vc-"
      },
      "source": [
        "Define our function to solve the ridge objective for a polynomial regression model of any degree:"
      ]
    },
    {
      "cell_type": "code",
      "metadata": {
        "id": "JHa-15uy-Vc-"
      },
      "source": [
        "def polynomial_ridge_regression(data, deg, l2_penalty):\n",
        "    model = turicreate.linear_regression.create(polynomial_features(data,deg), \n",
        "                                                target='Y',\n",
        "                                                l2_penalty=l2_penalty,\n",
        "                                                validation_set=None,verbose=False)\n",
        "    return model"
      ],
      "execution_count": null,
      "outputs": []
    },
    {
      "cell_type": "markdown",
      "metadata": {
        "id": "cUqsx9PZ-Vc_"
      },
      "source": [
        "## Perform a ridge fit of a degree-16 polynomial using a *very* small penalty strength"
      ]
    },
    {
      "cell_type": "code",
      "metadata": {
        "id": "pB0O61Zk-VdA",
        "outputId": "78abfa22-80d0-473b-8770-f4848b603a31",
        "colab": {
          "base_uri": "https://localhost:8080/",
          "height": 168
        }
      },
      "source": [
        "model = polynomial_ridge_regression(data, deg=16, l2_penalty=1e-25)\n",
        "print_coefficients(model)"
      ],
      "execution_count": null,
      "outputs": [
        {
          "output_type": "stream",
          "text": [
            "Learned polynomial for degree 16:\n",
            "            16             15             14             13\n",
            "-2.004e+06 x  + 6.675e+06 x  - 3.762e+06 x  - 1.185e+07 x \n",
            "              12             11             10             9\n",
            " + 1.946e+07 x  - 5.332e+06 x  - 1.012e+07 x  + 9.083e+06 x\n",
            "              8             7             6             5             4\n",
            " - 7.702e+05 x - 2.731e+06 x + 1.844e+06 x - 5.951e+05 x + 1.138e+05 x\n",
            "              3        2\n",
            " - 1.412e+04 x + 1227 x - 70.96 x + 2.171\n"
          ],
          "name": "stdout"
        }
      ]
    },
    {
      "cell_type": "code",
      "metadata": {
        "id": "0Qlg_Z0d-VdB",
        "outputId": "7c468fca-22ab-43a7-90cf-7ebab392f699",
        "colab": {
          "base_uri": "https://localhost:8080/",
          "height": 283
        }
      },
      "source": [
        "plot_poly_predictions(data,model)"
      ],
      "execution_count": null,
      "outputs": [
        {
          "output_type": "display_data",
          "data": {
            "image/png": "[encoded data removed]",
            "text/plain": [
              "<Figure size 432x288 with 1 Axes>"
            ]
          },
          "metadata": {
            "tags": [],
            "needs_background": "light"
          }
        }
      ]
    },
    {
      "cell_type": "markdown",
      "metadata": {
        "id": "MdWUsZdq-VdD"
      },
      "source": [
        "## Perform a ridge fit of a degree-16 polynomial using a very large penalty strength"
      ]
    },
    {
      "cell_type": "code",
      "metadata": {
        "id": "hhlrGrnM-VdD",
        "outputId": "7f584a37-ca1c-40bd-a703-062634b25071",
        "colab": {
          "base_uri": "https://localhost:8080/",
          "height": 134
        }
      },
      "source": [
        "model = polynomial_ridge_regression(data, deg=16, l2_penalty=100)\n",
        "print_coefficients(model)"
      ],
      "execution_count": null,
      "outputs": [
        {
          "output_type": "stream",
          "text": [
            "Learned polynomial for degree 16:\n",
            "        16          15          14          13          12         11\n",
            "-0.301 x  - 0.2802 x  - 0.2604 x  - 0.2413 x  - 0.2229 x  - 0.205 x \n",
            "           10          9          8          7          6           5\n",
            " - 0.1874 x  - 0.1699 x - 0.1524 x - 0.1344 x - 0.1156 x - 0.09534 x\n",
            "            4           3           2\n",
            " - 0.07304 x - 0.04842 x - 0.02284 x - 0.002257 x + 0.6416\n"
          ],
          "name": "stdout"
        }
      ]
    },
    {
      "cell_type": "code",
      "metadata": {
        "id": "9M7T-a7p-VdF",
        "outputId": "e6bdcda0-b02a-466b-d576-c926e5868db8",
        "colab": {
          "base_uri": "https://localhost:8080/",
          "height": 283
        }
      },
      "source": [
        "plot_poly_predictions(data,model)"
      ],
      "execution_count": null,
      "outputs": [
        {
          "output_type": "display_data",
          "data": {
            "image/png": "[encoded data removed]",
            "text/plain": [
              "<Figure size 432x288 with 1 Axes>"
            ]
          },
          "metadata": {
            "tags": [],
            "needs_background": "light"
          }
        }
      ]
    },
    {
      "cell_type": "markdown",
      "metadata": {
        "id": "tUtoQOcx-VdH"
      },
      "source": [
        "## Let's look at fits for a sequence of increasing lambda values"
      ]
    },
    {
      "cell_type": "code",
      "metadata": {
        "scrolled": false,
        "id": "BKWuw2Vd-VdH",
        "outputId": "19760466-d72a-4b8d-fadc-eaa1b98af5a0",
        "colab": {
          "base_uri": "https://localhost:8080/",
          "height": 1000
        }
      },
      "source": [
        "for l2_penalty in [1e-25, 1e-10, 1e-6, 1e-3, 1e2]:\n",
        "    model = polynomial_ridge_regression(data, deg=16, l2_penalty=l2_penalty)\n",
        "    print 'lambda = %.2e' % l2_penalty\n",
        "    print_coefficients(model)\n",
        "    print '\\n'\n",
        "    plt.figure()\n",
        "    plot_poly_predictions(data,model)\n",
        "    plt.title('Ridge, lambda = %.2e' % l2_penalty)"
      ],
      "execution_count": null,
      "outputs": [
        {
          "output_type": "stream",
          "text": [
            "lambda = 1.00e-25\n",
            "Learned polynomial for degree 16:\n",
            "            16             15             14             13\n",
            "-2.004e+06 x  + 6.675e+06 x  - 3.762e+06 x  - 1.185e+07 x \n",
            "              12             11             10             9\n",
            " + 1.946e+07 x  - 5.332e+06 x  - 1.012e+07 x  + 9.083e+06 x\n",
            "              8             7             6             5             4\n",
            " - 7.702e+05 x - 2.731e+06 x + 1.844e+06 x - 5.951e+05 x + 1.138e+05 x\n",
            "              3        2\n",
            " - 1.412e+04 x + 1227 x - 70.96 x + 2.171\n",
            "\n",
            "\n",
            "lambda = 1.00e-10\n",
            "Learned polynomial for degree 16:\n",
            "           16             15             14            13\n",
            "4.975e+04 x  - 7.821e+04 x  - 2.265e+04 x  + 3.95e+04 x \n",
            "              12        11             10             9             8\n",
            " + 4.365e+04 x  + 3077 x  - 3.332e+04 x  - 2.786e+04 x + 1.033e+04 x\n",
            "              7        6             5             4        3         2\n",
            " + 2.962e+04 x - 1441 x - 2.597e+04 x + 1.839e+04 x - 5596 x + 866.1 x - 65.19 x + 2.159\n",
            "\n",
            "\n",
            "lambda = 1.00e-06\n",
            "Learned polynomial for degree 16:\n",
            "       16         15         14        13         12         11\n",
            "329.1 x  - 356.4 x  - 264.2 x  + 33.8 x  + 224.7 x  + 210.8 x \n",
            "          10         9       8         7         6         5         4\n",
            " + 49.62 x  - 122.4 x - 178 x - 79.13 x + 84.89 x + 144.9 x + 5.123 x\n",
            "          3         2\n",
            " - 156.9 x + 88.21 x - 14.82 x + 1.059\n",
            "\n",
            "\n",
            "lambda = 1.00e-03\n",
            "Learned polynomial for degree 16:\n",
            "       16         15         14         13         12          11\n",
            "6.364 x  - 1.596 x  - 4.807 x  - 4.778 x  - 2.776 x  + 0.1238 x \n",
            "          10         9         8         7          6         5\n",
            " + 2.977 x  + 4.926 x + 5.203 x + 3.248 x - 0.9291 x - 6.011 x\n",
            "          4         3         2\n",
            " - 8.395 x - 2.655 x + 9.861 x - 2.225 x + 0.5636\n",
            "\n",
            "\n",
            "lambda = 1.00e+02\n",
            "Learned polynomial for degree 16:\n",
            "        16          15          14          13          12         11\n",
            "-0.301 x  - 0.2802 x  - 0.2604 x  - 0.2413 x  - 0.2229 x  - 0.205 x \n",
            "           10          9          8          7          6           5\n",
            " - 0.1874 x  - 0.1699 x - 0.1524 x - 0.1344 x - 0.1156 x - 0.09534 x\n",
            "            4           3           2\n",
            " - 0.07304 x - 0.04842 x - 0.02284 x - 0.002257 x + 0.6416\n",
            "\n",
            "\n"
          ],
          "name": "stdout"
        },
        {
          "output_type": "display_data",
          "data": {
            "image/png": "[encoded data removed]",
            "text/plain": [
              "<Figure size 432x288 with 1 Axes>"
            ]
          },
          "metadata": {
            "tags": [],
            "needs_background": "light"
          }
        },
        {
          "output_type": "display_data",
          "data": {
            "image/png": "[encoded data removed]",
            "text/plain": [
              "<Figure size 432x288 with 1 Axes>"
            ]
          },
          "metadata": {
            "tags": [],
            "needs_background": "light"
          }
        },
        {
          "output_type": "display_data",
          "data": {
            "image/png": "[encoded data removed]",
            "text/plain": [
              "<Figure size 432x288 with 1 Axes>"
            ]
          },
          "metadata": {
            "tags": [],
            "needs_background": "light"
          }
        },
        {
          "output_type": "display_data",
          "data": {
            "image/png": "[encoded data removed]",
            "text/plain": [
              "<Figure size 432x288 with 1 Axes>"
            ]
          },
          "metadata": {
            "tags": [],
            "needs_background": "light"
          }
        },
        {
          "output_type": "display_data",
          "data": {
            "image/png": "[encoded data removed]",
            "text/plain": [
              "<Figure size 432x288 with 1 Axes>"
            ]
          },
          "metadata": {
            "tags": [],
            "needs_background": "light"
          }
        }
      ]
    },
    {
      "cell_type": "markdown",
      "metadata": {
        "id": "MhzOE3uq-VdJ"
      },
      "source": [
        "## Perform a ridge fit of a degree-16 polynomial using a \"good\" penalty strength"
      ]
    },
    {
      "cell_type": "markdown",
      "metadata": {
        "id": "EpE0wc-u-VdJ"
      },
      "source": [
        "We will learn about cross validation later in this course as a way to select a good value of the tuning parameter (penalty strength) lambda.  Here, we consider \"leave one out\" (LOO) cross validation, which one can show approximates average mean square error (MSE).  As a result, choosing lambda to minimize the LOO error is equivalent to choosing lambda to minimize an approximation to average MSE.\n",
        "\n",
        "_Note:_ For applying cross-validation, we will import a package called `turicreate_cross_validation`."
      ]
    },
    {
      "cell_type": "code",
      "metadata": {
        "id": "E-uLtXSDFx3M"
      },
      "source": [
        "import numpy as np\n",
        "import turicreate as tc\n",
        "from collections import defaultdict\n",
        "from turicreate.toolkits._internal_utils import _raise_error_if_column_exists\n",
        "from turicreate.toolkits._main import ToolkitError\n",
        "\n",
        "\n",
        "def _get_classification_metrics(model, targets, predictions):\n",
        "    \"\"\"\n",
        "    Parameters\n",
        "    ----------\n",
        "    model: Classifier\n",
        "        Turi create trained classifier.\n",
        "    targets: SArray\n",
        "        Array containing the expected labels.\n",
        "    predictions: SArray\n",
        "        Array containing the predicted labels.\n",
        "    Returns\n",
        "    -------\n",
        "    dict\n",
        "        An average metrics of the n folds.\n",
        "    \"\"\"\n",
        "    precision = tc.evaluation.precision(targets, predictions)\n",
        "    accuracy = tc.evaluation.accuracy(targets, predictions)\n",
        "    recall = tc.evaluation.recall(targets, predictions)\n",
        "    auc = tc.evaluation.auc(targets, predictions)\n",
        "    return {\"recall\": recall,\n",
        "            \"precision\": precision,\n",
        "            \"accuracy\": accuracy,\n",
        "            \"auc\": auc\n",
        "            }\n",
        "\n",
        "\n",
        "def _kfold_sections(data, n_folds):\n",
        "    \"\"\"\n",
        "    Calculate the indexes of the splits that should\n",
        "    be used to split the data into n_folds.\n",
        "    Parameters\n",
        "    ----------\n",
        "    data: SFrame\n",
        "        A Non empty SFrame.\n",
        "    n_folds: int\n",
        "        The number of folds to create. Must be at least 2.\n",
        "    Yields\n",
        "    -------\n",
        "    (int, int)\n",
        "        Yields the first and last index of the fold.\n",
        "    Notes\n",
        "    -----\n",
        "        Based on scikit implementation.\n",
        "    \"\"\"\n",
        "    Neach_section, extras = divmod(len(data), n_folds)\n",
        "    section_sizes = ([0] +\n",
        "                     extras * [Neach_section + 1] +\n",
        "                     (n_folds - extras) * [Neach_section])\n",
        "    div_points = np.array(section_sizes).cumsum()\n",
        "    for i in range(n_folds):\n",
        "        st = div_points[i]\n",
        "        end = div_points[i + 1]\n",
        "        yield st, end\n",
        "\n",
        "\n",
        "def shuffle_sframe(sf, random_seed=None, temp_shuffle_col=\"shuffle_col\"):\n",
        "    \"\"\"\n",
        "    Create a copy of the SFrame where the rows have been shuffled randomly.\n",
        "    Parameters\n",
        "    ----------\n",
        "    sf: SFrame\n",
        "        A Non empty SFrame.\n",
        "    random_seed: int, optional\n",
        "        Random seed to use for the randomization. If provided, each call\n",
        "        to this method will produce an identical result.\n",
        "    temp_shuffle_col: str, optional\n",
        "        Change only if you use the same column name.\n",
        "    Returns\n",
        "    -------\n",
        "    SFrame\n",
        "        A randomly shuffled SFrame.\n",
        "    Examples\n",
        "    --------\n",
        "        >>> url = 'https://static.turi.com/datasets/xgboost/mushroom.csv'\n",
        "        >>> sf = tc.SFrame.read_csv(url)\n",
        "        >>> shuffle_sframe(sf)\n",
        "    \"\"\"\n",
        "\n",
        "    if temp_shuffle_col in sf.column_names():\n",
        "        raise ToolkitError('The SFrame already contains column named {0}. '\n",
        "                           'Please enter set another value to temp_shuffle_col'.format(temp_shuffle_col))\n",
        "    shuffled_sframe = sf.copy()\n",
        "    shuffled_sframe[temp_shuffle_col] = tc.SArray.random_integers(sf.num_rows(), random_seed)\n",
        "    return shuffled_sframe.sort(temp_shuffle_col).remove_column(temp_shuffle_col)\n",
        "\n",
        "\n",
        "def KFold(data, n_folds=10):\n",
        "    \"\"\"\n",
        "    Create a K-Fold split of a data set as an iterable/indexable object of K pairs,\n",
        "    where each pair is a partition of the dataset.  This can be useful for cross\n",
        "    validation, where each fold is used as a held out dataset while training\n",
        "    on the remaining data.\n",
        "    Parameters\n",
        "    ----------\n",
        "    data: SFrame\n",
        "        A Non empty SFrame.\n",
        "    n_folds: int\n",
        "        The number of folds to create. Must be at least 2.\n",
        "    Notes\n",
        "    -----\n",
        "    This does not shuffle the data. Shuffling your data is a useful preprocessing step when doing cross validation.\n",
        "    Yields\n",
        "    -------\n",
        "    (SArray, SArray)\n",
        "        Yields train, test of each fold\n",
        "    Examples\n",
        "    --------\n",
        "        >>> url = 'https://static.turi.com/datasets/xgboost/mushroom.csv'\n",
        "        >>> sf = tc.SFrame.read_csv(url)\n",
        "        >>> folds = KFold(sf)\n",
        "    \"\"\"\n",
        "    if data.num_rows() < n_folds:\n",
        "        raise ValueError\n",
        "    for st, end in _kfold_sections(data, n_folds):\n",
        "        idx = np.zeros(len(data))\n",
        "        idx[st:end] = 1\n",
        "        yield data[tc.SArray(1 - idx)], data[tc.SArray(idx)]\n",
        "\n",
        "\n",
        "def StratifiedKFold(data, label='label', n_folds=10):\n",
        "    \"\"\"\n",
        "    Create a Starified K-Fold split of a data set as an iteratable/indexable object\n",
        "    of K pairs, where each pair is a partition of the data set. This can be useful\n",
        "    for cross validation, where each fold is used as a heldout dataset while\n",
        "    training on the remaining data. Unlike the regular KFold the folds are\n",
        "    made by preserving the percentage of samples for each class.\n",
        "    The StratifiedKFold is more suitable for smaller datasets\n",
        "    or for datasets where there a is a minority class.\n",
        "    Parameters\n",
        "    ----------\n",
        "    data: SFrame\n",
        "        A Non empty SFrame.\n",
        "    label: str\n",
        "        The target/class column name in the SFrame.\n",
        "    n_folds: int\n",
        "        The number of folds to create. Must be at least 2.\n",
        "    Notes\n",
        "    -----\n",
        "    This does not shuffle the data. Shuffling your data is a useful preprocessing step when doing cross validation.\n",
        "    Yields\n",
        "    -------\n",
        "    (SArray, SArray)\n",
        "        Yields train, test of each fold\n",
        "    Examples\n",
        "    --------\n",
        "        >>> url = 'https://static.turi.com/datasets/xgboost/mushroom.csv'\n",
        "        >>> sf = tc.SFrame.read_csv(url)\n",
        "        >>> folds = StratifiedKFold(sf)\n",
        "    \"\"\"\n",
        "    _raise_error_if_column_exists(data, label, 'data', label)\n",
        "\n",
        "    labels = data[label].unique()\n",
        "    labeled_data = [data[data[label] == l] for l in labels]\n",
        "    fold = [KFold(item, n_folds) for item in labeled_data]\n",
        "    for _ in range(n_folds):\n",
        "        train, test = tc.SFrame(), tc.SFrame()\n",
        "        for f in fold:\n",
        "            x_train, x_test = f.next()\n",
        "            train = train.append(x_train)\n",
        "            test = test.append(x_test)\n",
        "        yield train, test\n",
        "\n",
        "\n",
        "def cross_val_score(datasets, model_factory, model_parameters=None, evaluator=_get_classification_metrics):\n",
        "    \"\"\"\n",
        "    Evaluate model performance via cross validation for a given set of parameters.\n",
        "    Parameters\n",
        "    ----------\n",
        "    datasets: iterable of tuples\n",
        "        The data used to train the model on a format of iterable of tuples.\n",
        "        The tuples should be in a format of (train, test).\n",
        "    model_factory: function\n",
        "        This is the function used to create the model.\n",
        "        For example, to perform model_parameter_search using the\n",
        "        GraphLab Create model graphlab.linear_regression.LinearRegression,\n",
        "        the model_factory is graphlab.linear_regression.create().\n",
        "    model_parameters: dict\n",
        "        The params argument takes a dictionary containing parameters that will be passed to the provided model factory.\n",
        "    evaluator: function (model, training_set, validation_set) -> dict, optional\n",
        "        The evaluation function takes as input the model, training and validation SFrames,\n",
        "        and returns a dictionary of evaluation metrics where each value is a simple type, e.g. float, str, or int.\n",
        "    Returns\n",
        "    -------\n",
        "    dict\n",
        "        The calculate metrics for the cross validation.\n",
        "    Examples\n",
        "    --------\n",
        "        >>> url = 'https://static.turi.com/datasets/xgboost/mushroom.csv'\n",
        "        >>> sf = tc.SFrame.read_csv(url)\n",
        "        >>> folds = StratifiedKFold(sf)\n",
        "        >>> params = {'target': 'label'}\n",
        "        >>> cross_val_score(folds, tc.random_forest_classifier.create, params)\n",
        "    \"\"\"\n",
        "    if not model_parameters:\n",
        "        model_parameters = {'target': 'label'}\n",
        "    label = model_parameters['target']\n",
        "\n",
        "    cross_val_metrics = defaultdict(list)\n",
        "    for train, test in datasets:\n",
        "\n",
        "        _raise_error_if_column_exists(train, label, 'train', label)\n",
        "        _raise_error_if_column_exists(test, label, 'test', label)\n",
        "\n",
        "        model = model_factory(train, **model_parameters)\n",
        "        prediction = model.predict(test)\n",
        "        metrics = evaluator(model, test[label], prediction)\n",
        "        for k, v in metrics.iteritems():\n",
        "            cross_val_metrics[k].append(v)\n",
        "    return {k: np.mean(v) for k, v in cross_val_metrics.iteritems()}"
      ],
      "execution_count": null,
      "outputs": []
    },
    {
      "cell_type": "code",
      "metadata": {
        "id": "ApB3rGPZ-VdK"
      },
      "source": [
        "#import turicreate_cross_validation as tcv\n",
        "\n",
        "# LOO cross validation -- return the average MSE\n",
        "def loo(data, deg, l2_penalty_values):\n",
        "    # Create polynomial features\n",
        "    data = polynomial_features(data, deg)\n",
        "    \n",
        "    # Create as many folds for cross validatation as number of data points\n",
        "    num_folds = len(data)\n",
        "    shuffled_data = shuffle_sframe(data, 98103)\n",
        "    folds_iterator = KFold(shuffled_data, num_folds)\n",
        "    folds = [f for f in folds_iterator]\n",
        "    \n",
        "    # for each value of l2_penalty, fit a model for each fold and compute average MSE\n",
        "    l2_penalty_mse = []\n",
        "    min_mse = None\n",
        "    best_l2_penalty = None\n",
        "    for l2_penalty in l2_penalty_values:\n",
        "        next_mse = 0.0\n",
        "        for train_set, validation_set in folds:\n",
        "            # train model\n",
        "            model = turicreate.linear_regression.create(train_set,target='Y', \n",
        "                                                        l2_penalty=l2_penalty,\n",
        "                                                        validation_set=None,verbose=False)\n",
        "            \n",
        "            # predict on validation set \n",
        "            y_test_predicted = model.predict(validation_set)\n",
        "            # compute squared error\n",
        "            next_mse += ((y_test_predicted-validation_set['Y'])**2).sum()\n",
        "            #print \"   Error so far:\", next_mse\n",
        "        # save squared error in list of MSE for each l2_penalty\n",
        "        next_mse = next_mse/num_folds\n",
        "        l2_penalty_mse.append(next_mse)\n",
        "        if min_mse is None or next_mse < min_mse:\n",
        "            min_mse = next_mse\n",
        "            best_l2_penalty = l2_penalty\n",
        "            \n",
        "    return l2_penalty_mse,best_l2_penalty"
      ],
      "execution_count": null,
      "outputs": []
    },
    {
      "cell_type": "markdown",
      "metadata": {
        "id": "wo9DeKZd-VdL"
      },
      "source": [
        "Run LOO cross validation for \"num\" values of lambda, on a log scale"
      ]
    },
    {
      "cell_type": "code",
      "metadata": {
        "id": "9yVY2U5G-VdL"
      },
      "source": [
        "l2_penalty_values = numpy.logspace(-4, 10, num=10)\n",
        "l2_penalty_mse, best_l2_penalty = loo(data, 16, l2_penalty_values)"
      ],
      "execution_count": null,
      "outputs": []
    },
    {
      "cell_type": "markdown",
      "metadata": {
        "id": "X0QDshG5-VdN"
      },
      "source": [
        "Plot results of estimating LOO for each value of lambda"
      ]
    },
    {
      "cell_type": "code",
      "metadata": {
        "id": "r_ir8Jsa-VdN",
        "outputId": "73afc8ea-ec7c-4c90-e1da-d9680723c405",
        "colab": {
          "base_uri": "https://localhost:8080/",
          "height": 291
        }
      },
      "source": [
        "plt.plot(l2_penalty_values, l2_penalty_mse, 'k-')\n",
        "plt.xlabel('$\\ell_2$ penalty')\n",
        "plt.ylabel('LOO cross validation error')\n",
        "plt.xscale('log')\n",
        "plt.yscale('log')"
      ],
      "execution_count": null,
      "outputs": [
        {
          "output_type": "display_data",
          "data": {
            "image/png": "[encoded data removed]",
            "text/plain": [
              "<Figure size 432x288 with 1 Axes>"
            ]
          },
          "metadata": {
            "tags": [],
            "needs_background": "light"
          }
        }
      ]
    },
    {
      "cell_type": "markdown",
      "metadata": {
        "id": "de8yDL7E-VdP"
      },
      "source": [
        "Find the value of lambda, $\\lambda_{\\mathrm{CV}}$, that minimizes the LOO cross validation error, and plot resulting fit"
      ]
    },
    {
      "cell_type": "code",
      "metadata": {
        "id": "1bQ86pjj-VdP",
        "outputId": "fb31fcf0-a173-4fae-a6c2-f730f3eadfde",
        "colab": {
          "base_uri": "https://localhost:8080/",
          "height": 34
        }
      },
      "source": [
        "best_l2_penalty"
      ],
      "execution_count": null,
      "outputs": [
        {
          "output_type": "execute_result",
          "data": {
            "text/plain": [
              "0.1291549665014884"
            ]
          },
          "metadata": {
            "tags": []
          },
          "execution_count": 48
        }
      ]
    },
    {
      "cell_type": "code",
      "metadata": {
        "id": "DkzZLWLy-VdR",
        "outputId": "5c959261-9080-45ae-f9d9-64ec7ebf4260",
        "colab": {
          "base_uri": "https://localhost:8080/",
          "height": 134
        }
      },
      "source": [
        "model = polynomial_ridge_regression(data, deg=16, l2_penalty=best_l2_penalty)\n",
        "print_coefficients(model)"
      ],
      "execution_count": null,
      "outputs": [
        {
          "output_type": "stream",
          "text": [
            "Learned polynomial for degree 16:\n",
            "       16         15          14          13          12           11\n",
            "1.345 x  + 1.141 x  + 0.9069 x  + 0.6447 x  + 0.3569 x  + 0.04947 x \n",
            "           10          9          8         7         6         5\n",
            " - 0.2683 x  - 0.5821 x - 0.8701 x - 1.099 x - 1.216 x - 1.145 x\n",
            "           4           3          2\n",
            " - 0.7837 x - 0.07406 x + 0.7614 x + 0.7703 x + 0.3918\n"
          ],
          "name": "stdout"
        }
      ]
    },
    {
      "cell_type": "code",
      "metadata": {
        "id": "fqlZBRc_-VdS",
        "outputId": "89c0e9ca-274a-421d-87cf-2d084920481f",
        "colab": {
          "base_uri": "https://localhost:8080/",
          "height": 283
        }
      },
      "source": [
        "plot_poly_predictions(data,model)"
      ],
      "execution_count": null,
      "outputs": [
        {
          "output_type": "display_data",
          "data": {
            "image/png": "[encoded data removed]",
            "text/plain": [
              "<Figure size 432x288 with 1 Axes>"
            ]
          },
          "metadata": {
            "tags": [],
            "needs_background": "light"
          }
        }
      ]
    },
    {
      "cell_type": "markdown",
      "metadata": {
        "collapsed": true,
        "id": "o2nevhOX-VdU"
      },
      "source": [
        "# Lasso Regression"
      ]
    },
    {
      "cell_type": "markdown",
      "metadata": {
        "id": "sr99SxWu-VdU"
      },
      "source": [
        "Lasso regression jointly shrinks coefficients to avoid overfitting, and implicitly performs feature selection by setting some coefficients exactly to 0 for sufficiently large penalty strength lambda (here called \"L1_penalty\").  In particular, lasso takes the RSS term of standard least squares and adds a 1-norm cost of the coefficients $\\|w\\|$."
      ]
    },
    {
      "cell_type": "markdown",
      "metadata": {
        "id": "pmpgzj9N-VdV"
      },
      "source": [
        "Define our function to solve the lasso objective for a polynomial regression model of any degree:"
      ]
    },
    {
      "cell_type": "code",
      "metadata": {
        "id": "i8yigUqz-VdV"
      },
      "source": [
        "def polynomial_lasso_regression(data, deg, l1_penalty):\n",
        "    model = turicreate.linear_regression.create(polynomial_features(data,deg), \n",
        "                                                target='Y', l2_penalty=0.,\n",
        "                                                l1_penalty=l1_penalty,\n",
        "                                                validation_set=None, \n",
        "                                                solver='fista', verbose=False,\n",
        "                                                max_iterations=3000, convergence_threshold=1e-10)\n",
        "    return model"
      ],
      "execution_count": null,
      "outputs": []
    },
    {
      "cell_type": "markdown",
      "metadata": {
        "id": "jJJzz3Zo-VdZ"
      },
      "source": [
        "## Explore the lasso solution as a function of a few different penalty strengths"
      ]
    },
    {
      "cell_type": "markdown",
      "metadata": {
        "id": "WMKDKJ4U-VdZ"
      },
      "source": [
        "We refer to lambda in the lasso case below as \"l1_penalty\""
      ]
    },
    {
      "cell_type": "code",
      "metadata": {
        "scrolled": false,
        "id": "aANfxjan-Vda",
        "outputId": "8867eb11-67b2-427f-c192-f0182f56b93b",
        "colab": {
          "base_uri": "https://localhost:8080/"
        }
      },
      "source": [
        "for l1_penalty in [0.0001, 0.01, 0.1, 10]:\n",
        "    model = polynomial_lasso_regression(data, deg=16, l1_penalty=l1_penalty)\n",
        "    print 'l1_penalty = %e' % l1_penalty\n",
        "    print 'number of nonzeros = %d' % (model.coefficients['value']).nnz()\n",
        "    print_coefficients(model)\n",
        "    print '\\n'\n",
        "    plt.figure()\n",
        "    plot_poly_predictions(data,model)\n",
        "    plt.title('LASSO, lambda = %.2e, # nonzeros = %d' % (l1_penalty, (model.coefficients['value']).nnz()))"
      ],
      "execution_count": null,
      "outputs": [
        {
          "output_type": "stream",
          "text": [
            "l1_penalty = 1.000000e-04\n",
            "number of nonzeros = 17\n",
            "Learned polynomial for degree 16:\n",
            "       16        15         14         13         12         11\n",
            "29.02 x  + 1.35 x  - 12.72 x  - 16.93 x  - 13.82 x  - 6.698 x \n",
            "          10         9         8         7         6         5\n",
            " + 1.407 x  + 8.939 x + 12.88 x + 11.44 x + 3.759 x - 8.062 x\n",
            "          4         3         2\n",
            " - 16.28 x - 7.682 x + 17.86 x - 4.384 x + 0.685\n",
            "\n",
            "\n",
            "l1_penalty = 1.000000e-02\n",
            "number of nonzeros = 14\n",
            "Learned polynomial for degree 16:\n",
            "        16             15           11          10         9          8\n",
            "-1.181 x  - 0.0003816 x  + 0.08713 x  + 0.7386 x  + 3.828 x + 0.4759 x\n",
            "           7           6          5         4             3         2\n",
            " + 0.1281 x + 0.00281 x - 0.6152 x - 10.11 x - 0.0002953 x + 6.686 x - 1.28 x + 0.5057\n",
            "\n",
            "\n",
            "l1_penalty = 1.000000e-01\n",
            "number of nonzeros = 5\n",
            "Learned polynomial for degree 16:\n",
            "      16         6         5\n",
            "2.21 x  - 1.002 x - 2.962 x + 1.216 x + 0.3473\n",
            "\n",
            "\n",
            "l1_penalty = 1.000000e+01\n",
            "number of nonzeros = 2\n",
            "Learned polynomial for degree 16:\n",
            "        9\n",
            "-1.526 x + 0.5755\n",
            "\n",
            "\n"
          ],
          "name": "stdout"
        },
        {
          "output_type": "display_data",
          "data": {
            "image/png": "[encoded data removed]",
            "text/plain": [
              "<Figure size 432x288 with 1 Axes>"
            ]
          },
          "metadata": {
            "tags": [],
            "needs_background": "light"
          }
        },
        {
          "output_type": "display_data",
          "data": {
            "image/png": "[encoded data removed]",
            "text/plain": [
              "<Figure size 432x288 with 1 Axes>"
            ]
          },
          "metadata": {
            "tags": [],
            "needs_background": "light"
          }
        },
        {
          "output_type": "display_data",
          "data": {
            "image/png": "[encoded data removed]",
            "text/plain": [
              "<Figure size 432x288 with 1 Axes>"
            ]
          },
          "metadata": {
            "tags": [],
            "needs_background": "light"
          }
        },
        {
          "output_type": "display_data",
          "data": {
            "image/png": "[encoded data removed]",
            "text/plain": [
              "<Figure size 432x288 with 1 Axes>"
            ]
          },
          "metadata": {
            "tags": [],
            "needs_background": "light"
          }
        }
      ]
    },
    {
      "cell_type": "markdown",
      "metadata": {
        "collapsed": true,
        "id": "D71BFh48-Vdb"
      },
      "source": [
        "Above: We see that as lambda increases, we get sparser and sparser solutions.  However, even for our non-sparse case for lambda=0.0001, the fit of our high-order polynomial is not too wild.  This is because, like in ridge, coefficients included in the lasso solution are shrunk relative to those of the least squares (unregularized) solution.  This leads to better behavior even without sparsity.  Of course, as lambda goes to 0, the amount of this shrinkage decreases and the lasso solution approaches the (wild) least squares solution."
      ]
    },
    {
      "cell_type": "code",
      "metadata": {
        "id": "3qP4vJeH-Vdc"
      },
      "source": [
        ""
      ],
      "execution_count": null,
      "outputs": []
    },
    {
      "cell_type": "code",
      "metadata": {
        "id": "spK21iDj-Vdd"
      },
      "source": [
        ""
      ],
      "execution_count": null,
      "outputs": []
    }
  ]
}