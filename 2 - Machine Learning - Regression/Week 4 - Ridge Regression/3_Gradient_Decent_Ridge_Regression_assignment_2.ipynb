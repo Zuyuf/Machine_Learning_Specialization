{
  "nbformat": 4,
  "nbformat_minor": 0,
  "metadata": {
    "kernelspec": {
      "display_name": "Python 2",
      "language": "python",
      "name": "python2"
    },
    "language_info": {
      "codemirror_mode": {
        "name": "ipython",
        "version": 2
      },
      "file_extension": ".py",
      "mimetype": "text/x-python",
      "name": "python",
      "nbconvert_exporter": "python",
      "pygments_lexer": "ipython2",
      "version": "2.7.15"
    },
    "colab": {
      "name": "3 - Gradient Decent - Ridge Regression assignment 2.ipynb",
      "provenance": [],
      "collapsed_sections": [
        "GAdG_esIA11U",
        "kTtMmg2gA11b",
        "h9CFIuPJA11e",
        "PVMr-ExfA114"
      ],
      "include_colab_link": true
    }
  },
  "cells": [
    {
      "cell_type": "markdown",
      "metadata": {
        "id": "view-in-github",
        "colab_type": "text"
      },
      "source": [
        "<a href=\"https://colab.research.google.com/github/Zuyuf/Machine_Learning_Specialization/blob/main/2%20-%20Machine%20Learning%20-%20Regression/Week%204%20-%20Ridge%20Regression/3_Gradient_Decent_Ridge_Regression_assignment_2.ipynb\" target=\"_parent\"><img src=\"https://colab.research.google.com/assets/colab-badge.svg\" alt=\"Open In Colab\"/></a>"
      ]
    },
    {
      "cell_type": "code",
      "metadata": {
        "id": "3TM7_L3gUOOu",
        "outputId": "f75c5d18-3104-4b29-b92f-c4cc06bdc626",
        "colab": {
          "base_uri": "https://localhost:8080/",
          "height": 1000
        }
      },
      "source": [
        "!pip install turicreate"
      ],
      "execution_count": null,
      "outputs": [
        {
          "output_type": "stream",
          "text": [
            "Collecting turicreate\n",
            "\u001b[?25l  Downloading https://files.pythonhosted.org/packages/75/38/77a081ce35f012bd4789551db9e5196e766a2641cb05114ded9cc268182c/turicreate-6.4.1-cp27-cp27mu-manylinux1_x86_64.whl (91.9MB)\n",
            "\u001b[K     |████████████████████████████████| 91.9MB 29kB/s \n",
            "\u001b[?25hCollecting pillow>=5.2.0\n",
            "\u001b[?25l  Downloading https://files.pythonhosted.org/packages/12/ad/61f8dfba88c4e56196bf6d056cdbba64dc9c5dfdfbc97d02e6472feed913/Pillow-6.2.2-cp27-cp27mu-manylinux1_x86_64.whl (2.1MB)\n",
            "\u001b[K     |████████████████████████████████| 2.1MB 42.2MB/s \n",
            "\u001b[?25hRequirement already satisfied: numpy in /usr/local/lib/python2.7/dist-packages (from turicreate) (1.16.4)\n",
            "Requirement already satisfied: requests>=2.9.1 in /usr/local/lib/python2.7/dist-packages (from turicreate) (2.23.0)\n",
            "Collecting tensorflow<2.1.0,>=2.0.0\n",
            "\u001b[?25l  Downloading https://files.pythonhosted.org/packages/17/08/1ff15637a03b1565dd6cb0916b3ca6873db3a1fc69be0ed851be936e5633/tensorflow-2.0.0-cp27-cp27mu-manylinux2010_x86_64.whl (86.3MB)\n",
            "\u001b[K     |████████████████████████████████| 86.3MB 49kB/s \n",
            "\u001b[?25hRequirement already satisfied: prettytable==0.7.2 in /usr/local/lib/python2.7/dist-packages (from turicreate) (0.7.2)\n",
            "Collecting llvmlite==0.31.0\n",
            "\u001b[?25l  Downloading https://files.pythonhosted.org/packages/91/07/90cd9cdd43b287960b16dbf7929bff2267dc0b6647e8e0117a4937b19620/llvmlite-0.31.0-cp27-cp27mu-manylinux1_x86_64.whl (20.2MB)\n",
            "\u001b[K     |████████████████████████████████| 20.2MB 1.3MB/s \n",
            "\u001b[?25hRequirement already satisfied: pandas>=0.23.2 in /usr/local/lib/python2.7/dist-packages (from turicreate) (0.24.2)\n",
            "Requirement already satisfied: decorator>=4.0.9 in /usr/local/lib/python2.7/dist-packages (from turicreate) (4.4.0)\n",
            "Requirement already satisfied: scipy>=1.1.0 in /usr/local/lib/python2.7/dist-packages (from turicreate) (1.2.2)\n",
            "Requirement already satisfied: six>=1.10.0 in /usr/local/lib/python2.7/dist-packages (from turicreate) (1.15.0)\n",
            "Requirement already satisfied: resampy==0.2.1 in /usr/local/lib/python2.7/dist-packages (from turicreate) (0.2.1)\n",
            "Collecting coremltools==3.3\n",
            "\u001b[?25l  Downloading https://files.pythonhosted.org/packages/46/9b/f6feac5d9369c68ee718d3c3140435452773a36ff08ef3bcc4fe378e8676/coremltools-3.3-cp27-none-manylinux1_x86_64.whl (3.4MB)\n",
            "\u001b[K     |████████████████████████████████| 3.4MB 26.4MB/s \n",
            "\u001b[?25hRequirement already satisfied: numba<0.51.0 in /usr/local/lib/python2.7/dist-packages (from turicreate) (0.40.1)\n",
            "Requirement already satisfied: urllib3!=1.25.0,!=1.25.1,<1.26,>=1.21.1 in /usr/local/lib/python2.7/dist-packages (from requests>=2.9.1->turicreate) (1.24.3)\n",
            "Requirement already satisfied: chardet<4,>=3.0.2 in /usr/local/lib/python2.7/dist-packages (from requests>=2.9.1->turicreate) (3.0.4)\n",
            "Requirement already satisfied: certifi>=2017.4.17 in /usr/local/lib/python2.7/dist-packages (from requests>=2.9.1->turicreate) (2019.6.16)\n",
            "Requirement already satisfied: idna<3,>=2.5 in /usr/local/lib/python2.7/dist-packages (from requests>=2.9.1->turicreate) (2.8)\n",
            "Requirement already satisfied: gast==0.2.2 in /usr/local/lib/python2.7/dist-packages (from tensorflow<2.1.0,>=2.0.0->turicreate) (0.2.2)\n",
            "Requirement already satisfied: grpcio>=1.8.6 in /usr/local/lib/python2.7/dist-packages (from tensorflow<2.1.0,>=2.0.0->turicreate) (1.15.0)\n",
            "Collecting tensorboard<2.1.0,>=2.0.0\n",
            "\u001b[?25l  Downloading https://files.pythonhosted.org/packages/a7/3d/993131c622ae34f9401a81526853f2310a4834bd042420a7982fb5bc5fd0/tensorboard-2.0.2-py2-none-any.whl (3.8MB)\n",
            "\u001b[K     |████████████████████████████████| 3.8MB 54.1MB/s \n",
            "\u001b[?25hRequirement already satisfied: wrapt>=1.11.1 in /usr/local/lib/python2.7/dist-packages (from tensorflow<2.1.0,>=2.0.0->turicreate) (1.11.2)\n",
            "Requirement already satisfied: protobuf>=3.6.1 in /usr/local/lib/python2.7/dist-packages (from tensorflow<2.1.0,>=2.0.0->turicreate) (3.8.0)\n",
            "Requirement already satisfied: keras-preprocessing>=1.0.5 in /usr/local/lib/python2.7/dist-packages (from tensorflow<2.1.0,>=2.0.0->turicreate) (1.1.0)\n",
            "Requirement already satisfied: backports.weakref>=1.0rc1; python_version < \"3.4\" in /usr/local/lib/python2.7/dist-packages (from tensorflow<2.1.0,>=2.0.0->turicreate) (1.0.post1)\n",
            "Requirement already satisfied: keras-applications>=1.0.8 in /usr/local/lib/python2.7/dist-packages (from tensorflow<2.1.0,>=2.0.0->turicreate) (1.0.8)\n",
            "Requirement already satisfied: wheel in /usr/local/lib/python2.7/dist-packages (from tensorflow<2.1.0,>=2.0.0->turicreate) (0.35.1)\n",
            "Requirement already satisfied: mock>=2.0.0 in /usr/local/lib/python2.7/dist-packages (from tensorflow<2.1.0,>=2.0.0->turicreate) (2.0.0)\n",
            "Requirement already satisfied: functools32>=3.2.3 in /usr/local/lib/python2.7/dist-packages (from tensorflow<2.1.0,>=2.0.0->turicreate) (3.2.3.post2)\n",
            "Requirement already satisfied: absl-py>=0.7.0 in /usr/local/lib/python2.7/dist-packages (from tensorflow<2.1.0,>=2.0.0->turicreate) (0.7.1)\n",
            "Requirement already satisfied: opt-einsum>=2.3.2 in /usr/local/lib/python2.7/dist-packages (from tensorflow<2.1.0,>=2.0.0->turicreate) (2.3.2)\n",
            "Requirement already satisfied: termcolor>=1.1.0 in /usr/local/lib/python2.7/dist-packages (from tensorflow<2.1.0,>=2.0.0->turicreate) (1.1.0)\n",
            "Requirement already satisfied: google-pasta>=0.1.6 in /usr/local/lib/python2.7/dist-packages (from tensorflow<2.1.0,>=2.0.0->turicreate) (0.1.7)\n",
            "Requirement already satisfied: enum34>=1.1.6; python_version < \"3.4\" in /usr/local/lib/python2.7/dist-packages (from tensorflow<2.1.0,>=2.0.0->turicreate) (1.1.6)\n",
            "Collecting tensorflow-estimator<2.1.0,>=2.0.0\n",
            "\u001b[?25l  Downloading https://files.pythonhosted.org/packages/fc/08/8b927337b7019c374719145d1dceba21a8bb909b93b1ad6f8fb7d22c1ca1/tensorflow_estimator-2.0.1-py2.py3-none-any.whl (449kB)\n",
            "\u001b[K     |████████████████████████████████| 450kB 48.2MB/s \n",
            "\u001b[?25hRequirement already satisfied: astor>=0.6.0 in /usr/local/lib/python2.7/dist-packages (from tensorflow<2.1.0,>=2.0.0->turicreate) (0.8.0)\n",
            "Requirement already satisfied: pytz>=2011k in /usr/local/lib/python2.7/dist-packages (from pandas>=0.23.2->turicreate) (2018.9)\n",
            "Requirement already satisfied: python-dateutil>=2.5.0 in /usr/local/lib/python2.7/dist-packages (from pandas>=0.23.2->turicreate) (2.5.3)\n",
            "Requirement already satisfied: funcsigs in /usr/local/lib/python2.7/dist-packages (from numba<0.51.0->turicreate) (1.0.2)\n",
            "Requirement already satisfied: singledispatch in /usr/local/lib/python2.7/dist-packages (from numba<0.51.0->turicreate) (3.4.0.3)\n",
            "Requirement already satisfied: futures>=2.2.0 in /usr/local/lib/python2.7/dist-packages (from grpcio>=1.8.6->tensorflow<2.1.0,>=2.0.0->turicreate) (3.2.0)\n",
            "Requirement already satisfied: setuptools>=41.0.0 in /usr/local/lib/python2.7/dist-packages (from tensorboard<2.1.0,>=2.0.0->tensorflow<2.1.0,>=2.0.0->turicreate) (44.1.1)\n",
            "Collecting google-auth-oauthlib<0.5,>=0.4.1\n",
            "  Downloading https://files.pythonhosted.org/packages/7b/b8/88def36e74bee9fce511c9519571f4e485e890093ab7442284f4ffaef60b/google_auth_oauthlib-0.4.1-py2.py3-none-any.whl\n",
            "Requirement already satisfied: werkzeug>=0.11.15 in /usr/local/lib/python2.7/dist-packages (from tensorboard<2.1.0,>=2.0.0->tensorflow<2.1.0,>=2.0.0->turicreate) (0.15.5)\n",
            "Requirement already satisfied: google-auth<2,>=1.6.3 in /usr/local/lib/python2.7/dist-packages (from tensorboard<2.1.0,>=2.0.0->tensorflow<2.1.0,>=2.0.0->turicreate) (1.17.2)\n",
            "Requirement already satisfied: markdown>=2.6.8 in /usr/local/lib/python2.7/dist-packages (from tensorboard<2.1.0,>=2.0.0->tensorflow<2.1.0,>=2.0.0->turicreate) (3.1.1)\n",
            "Requirement already satisfied: h5py in /usr/local/lib/python2.7/dist-packages (from keras-applications>=1.0.8->tensorflow<2.1.0,>=2.0.0->turicreate) (2.8.0)\n",
            "Requirement already satisfied: pbr>=0.11 in /usr/local/lib/python2.7/dist-packages (from mock>=2.0.0->tensorflow<2.1.0,>=2.0.0->turicreate) (5.4.0)\n",
            "Requirement already satisfied: requests-oauthlib>=0.7.0 in /usr/local/lib/python2.7/dist-packages (from google-auth-oauthlib<0.5,>=0.4.1->tensorboard<2.1.0,>=2.0.0->tensorflow<2.1.0,>=2.0.0->turicreate) (1.2.0)\n",
            "Requirement already satisfied: cachetools<5.0,>=2.0.0 in /usr/local/lib/python2.7/dist-packages (from google-auth<2,>=1.6.3->tensorboard<2.1.0,>=2.0.0->tensorflow<2.1.0,>=2.0.0->turicreate) (3.1.1)\n",
            "Requirement already satisfied: rsa<4.1; python_version < \"3\" in /usr/local/lib/python2.7/dist-packages (from google-auth<2,>=1.6.3->tensorboard<2.1.0,>=2.0.0->tensorflow<2.1.0,>=2.0.0->turicreate) (4.0)\n",
            "Requirement already satisfied: pyasn1-modules>=0.2.1 in /usr/local/lib/python2.7/dist-packages (from google-auth<2,>=1.6.3->tensorboard<2.1.0,>=2.0.0->tensorflow<2.1.0,>=2.0.0->turicreate) (0.2.5)\n",
            "Requirement already satisfied: oauthlib>=3.0.0 in /usr/local/lib/python2.7/dist-packages (from requests-oauthlib>=0.7.0->google-auth-oauthlib<0.5,>=0.4.1->tensorboard<2.1.0,>=2.0.0->tensorflow<2.1.0,>=2.0.0->turicreate) (3.0.2)\n",
            "Requirement already satisfied: pyasn1>=0.1.3 in /usr/local/lib/python2.7/dist-packages (from rsa<4.1; python_version < \"3\"->google-auth<2,>=1.6.3->tensorboard<2.1.0,>=2.0.0->tensorflow<2.1.0,>=2.0.0->turicreate) (0.4.5)\n",
            "\u001b[31mERROR: fastai 0.7.0 has requirement torch<0.4, but you'll have torch 1.4.0 which is incompatible.\u001b[0m\n",
            "\u001b[31mERROR: tensorboard 2.0.2 has requirement grpcio>=1.24.3, but you'll have grpcio 1.15.0 which is incompatible.\u001b[0m\n",
            "Installing collected packages: pillow, google-auth-oauthlib, tensorboard, tensorflow-estimator, tensorflow, llvmlite, coremltools, turicreate\n",
            "  Found existing installation: Pillow 4.3.0\n",
            "    Uninstalling Pillow-4.3.0:\n",
            "      Successfully uninstalled Pillow-4.3.0\n",
            "  Found existing installation: google-auth-oauthlib 0.4.0\n",
            "    Uninstalling google-auth-oauthlib-0.4.0:\n",
            "      Successfully uninstalled google-auth-oauthlib-0.4.0\n",
            "  Found existing installation: tensorboard 2.1.0\n",
            "    Uninstalling tensorboard-2.1.0:\n",
            "      Successfully uninstalled tensorboard-2.1.0\n",
            "  Found existing installation: tensorflow-estimator 1.15.0\n",
            "    Uninstalling tensorflow-estimator-1.15.0:\n",
            "      Successfully uninstalled tensorflow-estimator-1.15.0\n",
            "  Found existing installation: tensorflow 2.1.0\n",
            "    Uninstalling tensorflow-2.1.0:\n",
            "      Successfully uninstalled tensorflow-2.1.0\n",
            "  Found existing installation: llvmlite 0.29.0\n",
            "    Uninstalling llvmlite-0.29.0:\n",
            "      Successfully uninstalled llvmlite-0.29.0\n",
            "Successfully installed coremltools-3.3 google-auth-oauthlib-0.4.1 llvmlite-0.31.0 pillow-6.2.2 tensorboard-2.0.2 tensorflow-2.0.0 tensorflow-estimator-2.0.1 turicreate-6.4.1\n"
          ],
          "name": "stdout"
        },
        {
          "output_type": "display_data",
          "data": {
            "application/vnd.colab-display-data+json": {
              "pip_warning": {
                "packages": [
                  "PIL"
                ]
              }
            }
          },
          "metadata": {
            "tags": []
          }
        }
      ]
    },
    {
      "cell_type": "code",
      "metadata": {
        "id": "fBn2Hv21fIv-",
        "outputId": "daa7823d-b216-47f9-93c6-685a5235f6c8",
        "colab": {
          "base_uri": "https://localhost:8080/",
          "height": 50
        }
      },
      "source": [
        "from google.colab import drive\n",
        "drive.mount('/content/gdrive')"
      ],
      "execution_count": null,
      "outputs": [
        {
          "output_type": "stream",
          "text": [
            "Mounted at /content/gdrive\n",
            "Drive already mounted at /content/gdrive; to attempt to forcibly remount, call drive.mount(\"/content/gdrive\", force_remount=True).\n"
          ],
          "name": "stdout"
        }
      ]
    },
    {
      "cell_type": "code",
      "metadata": {
        "id": "eNpDNVIr41Iq"
      },
      "source": [
        "import numpy as np\n",
        "import turicreate as tc\n",
        "from collections import defaultdict\n",
        "from turicreate.toolkits._internal_utils import _raise_error_if_column_exists\n",
        "from turicreate.toolkits._main import ToolkitError\n",
        "\n",
        "\n",
        "def _get_classification_metrics(model, targets, predictions):\n",
        "    \"\"\"\n",
        "    Parameters\n",
        "    ----------\n",
        "    model: Classifier\n",
        "        Turi create trained classifier.\n",
        "    targets: SArray\n",
        "        Array containing the expected labels.\n",
        "    predictions: SArray\n",
        "        Array containing the predicted labels.\n",
        "    Returns\n",
        "    -------\n",
        "    dict\n",
        "        An average metrics of the n folds.\n",
        "    \"\"\"\n",
        "    precision = tc.evaluation.precision(targets, predictions)\n",
        "    accuracy = tc.evaluation.accuracy(targets, predictions)\n",
        "    recall = tc.evaluation.recall(targets, predictions)\n",
        "    auc = tc.evaluation.auc(targets, predictions)\n",
        "    return {\"recall\": recall,\n",
        "            \"precision\": precision,\n",
        "            \"accuracy\": accuracy,\n",
        "            \"auc\": auc\n",
        "            }\n",
        "\n",
        "\n",
        "def _kfold_sections(data, n_folds):\n",
        "    \"\"\"\n",
        "    Calculate the indexes of the splits that should\n",
        "    be used to split the data into n_folds.\n",
        "    Parameters\n",
        "    ----------\n",
        "    data: SFrame\n",
        "        A Non empty SFrame.\n",
        "    n_folds: int\n",
        "        The number of folds to create. Must be at least 2.\n",
        "    Yields\n",
        "    -------\n",
        "    (int, int)\n",
        "        Yields the first and last index of the fold.\n",
        "    Notes\n",
        "    -----\n",
        "        Based on scikit implementation.\n",
        "    \"\"\"\n",
        "    Neach_section, extras = divmod(len(data), n_folds)\n",
        "    section_sizes = ([0] +\n",
        "                     extras * [Neach_section + 1] +\n",
        "                     (n_folds - extras) * [Neach_section])\n",
        "    div_points = np.array(section_sizes).cumsum()\n",
        "    for i in range(n_folds):\n",
        "        st = div_points[i]\n",
        "        end = div_points[i + 1]\n",
        "        yield st, end\n",
        "\n",
        "\n",
        "def shuffle_sframe(sf, random_seed=None, temp_shuffle_col=\"shuffle_col\"):\n",
        "    \"\"\"\n",
        "    Create a copy of the SFrame where the rows have been shuffled randomly.\n",
        "    Parameters\n",
        "    ----------\n",
        "    sf: SFrame\n",
        "        A Non empty SFrame.\n",
        "    random_seed: int, optional\n",
        "        Random seed to use for the randomization. If provided, each call\n",
        "        to this method will produce an identical result.\n",
        "    temp_shuffle_col: str, optional\n",
        "        Change only if you use the same column name.\n",
        "    Returns\n",
        "    -------\n",
        "    SFrame\n",
        "        A randomly shuffled SFrame.\n",
        "    Examples\n",
        "    --------\n",
        "        >>> url = 'https://static.turi.com/datasets/xgboost/mushroom.csv'\n",
        "        >>> sf = tc.SFrame.read_csv(url)\n",
        "        >>> shuffle_sframe(sf)\n",
        "    \"\"\"\n",
        "\n",
        "    if temp_shuffle_col in sf.column_names():\n",
        "        raise ToolkitError('The SFrame already contains column named {0}. '\n",
        "                           'Please enter set another value to temp_shuffle_col'.format(temp_shuffle_col))\n",
        "    shuffled_sframe = sf.copy()\n",
        "    shuffled_sframe[temp_shuffle_col] = tc.SArray.random_integers(sf.num_rows(), random_seed)\n",
        "    return shuffled_sframe.sort(temp_shuffle_col).remove_column(temp_shuffle_col)\n",
        "\n",
        "\n",
        "def KFold(data, n_folds=10):\n",
        "    \"\"\"\n",
        "    Create a K-Fold split of a data set as an iterable/indexable object of K pairs,\n",
        "    where each pair is a partition of the dataset.  This can be useful for cross\n",
        "    validation, where each fold is used as a held out dataset while training\n",
        "    on the remaining data.\n",
        "    Parameters\n",
        "    ----------\n",
        "    data: SFrame\n",
        "        A Non empty SFrame.\n",
        "    n_folds: int\n",
        "        The number of folds to create. Must be at least 2.\n",
        "    Notes\n",
        "    -----\n",
        "    This does not shuffle the data. Shuffling your data is a useful preprocessing step when doing cross validation.\n",
        "    Yields\n",
        "    -------\n",
        "    (SArray, SArray)\n",
        "        Yields train, test of each fold\n",
        "    Examples\n",
        "    --------\n",
        "        >>> url = 'https://static.turi.com/datasets/xgboost/mushroom.csv'\n",
        "        >>> sf = tc.SFrame.read_csv(url)\n",
        "        >>> folds = KFold(sf)\n",
        "    \"\"\"\n",
        "    if data.num_rows() < n_folds:\n",
        "        raise ValueError\n",
        "    for st, end in _kfold_sections(data, n_folds):\n",
        "        idx = np.zeros(len(data))\n",
        "        idx[st:end] = 1\n",
        "        yield data[tc.SArray(1 - idx)], data[tc.SArray(idx)]\n",
        "\n",
        "\n",
        "def StratifiedKFold(data, label='label', n_folds=10):\n",
        "    \"\"\"\n",
        "    Create a Starified K-Fold split of a data set as an iteratable/indexable object\n",
        "    of K pairs, where each pair is a partition of the data set. This can be useful\n",
        "    for cross validation, where each fold is used as a heldout dataset while\n",
        "    training on the remaining data. Unlike the regular KFold the folds are\n",
        "    made by preserving the percentage of samples for each class.\n",
        "    The StratifiedKFold is more suitable for smaller datasets\n",
        "    or for datasets where there a is a minority class.\n",
        "    Parameters\n",
        "    ----------\n",
        "    data: SFrame\n",
        "        A Non empty SFrame.\n",
        "    label: str\n",
        "        The target/class column name in the SFrame.\n",
        "    n_folds: int\n",
        "        The number of folds to create. Must be at least 2.\n",
        "    Notes\n",
        "    -----\n",
        "    This does not shuffle the data. Shuffling your data is a useful preprocessing step when doing cross validation.\n",
        "    Yields\n",
        "    -------\n",
        "    (SArray, SArray)\n",
        "        Yields train, test of each fold\n",
        "    Examples\n",
        "    --------\n",
        "        >>> url = 'https://static.turi.com/datasets/xgboost/mushroom.csv'\n",
        "        >>> sf = tc.SFrame.read_csv(url)\n",
        "        >>> folds = StratifiedKFold(sf)\n",
        "    \"\"\"\n",
        "    _raise_error_if_column_exists(data, label, 'data', label)\n",
        "\n",
        "    labels = data[label].unique()\n",
        "    labeled_data = [data[data[label] == l] for l in labels]\n",
        "    fold = [KFold(item, n_folds) for item in labeled_data]\n",
        "    for _ in range(n_folds):\n",
        "        train, test = tc.SFrame(), tc.SFrame()\n",
        "        for f in fold:\n",
        "            x_train, x_test = f.next()\n",
        "            train = train.append(x_train)\n",
        "            test = test.append(x_test)\n",
        "        yield train, test\n",
        "\n",
        "\n",
        "def cross_val_score(datasets, model_factory, model_parameters=None, evaluator=_get_classification_metrics):\n",
        "    \"\"\"\n",
        "    Evaluate model performance via cross validation for a given set of parameters.\n",
        "    Parameters\n",
        "    ----------\n",
        "    datasets: iterable of tuples\n",
        "        The data used to train the model on a format of iterable of tuples.\n",
        "        The tuples should be in a format of (train, test).\n",
        "    model_factory: function\n",
        "        This is the function used to create the model.\n",
        "        For example, to perform model_parameter_search using the\n",
        "        GraphLab Create model graphlab.linear_regression.LinearRegression,\n",
        "        the model_factory is graphlab.linear_regression.create().\n",
        "    model_parameters: dict\n",
        "        The params argument takes a dictionary containing parameters that will be passed to the provided model factory.\n",
        "    evaluator: function (model, training_set, validation_set) -> dict, optional\n",
        "        The evaluation function takes as input the model, training and validation SFrames,\n",
        "        and returns a dictionary of evaluation metrics where each value is a simple type, e.g. float, str, or int.\n",
        "    Returns\n",
        "    -------\n",
        "    dict\n",
        "        The calculate metrics for the cross validation.\n",
        "    Examples\n",
        "    --------\n",
        "        >>> url = 'https://static.turi.com/datasets/xgboost/mushroom.csv'\n",
        "        >>> sf = tc.SFrame.read_csv(url)\n",
        "        >>> folds = StratifiedKFold(sf)\n",
        "        >>> params = {'target': 'label'}\n",
        "        >>> cross_val_score(folds, tc.random_forest_classifier.create, params)\n",
        "    \"\"\"\n",
        "    if not model_parameters:\n",
        "        model_parameters = {'target': 'label'}\n",
        "    label = model_parameters['target']\n",
        "\n",
        "    cross_val_metrics = defaultdict(list)\n",
        "    for train, test in datasets:\n",
        "\n",
        "        _raise_error_if_column_exists(train, label, 'train', label)\n",
        "        _raise_error_if_column_exists(test, label, 'test', label)\n",
        "\n",
        "        model = model_factory(train, **model_parameters)\n",
        "        prediction = model.predict(test)\n",
        "        metrics = evaluator(model, test[label], prediction)\n",
        "        for k, v in metrics.iteritems():\n",
        "            cross_val_metrics[k].append(v)\n",
        "    return {k: np.mean(v) for k, v in cross_val_metrics.iteritems()}"
      ],
      "execution_count": null,
      "outputs": []
    },
    {
      "cell_type": "markdown",
      "metadata": {
        "id": "MpE47PiXA11A"
      },
      "source": [
        "# Regression Week 4: Ridge Regression (gradient descent)"
      ]
    },
    {
      "cell_type": "markdown",
      "metadata": {
        "id": "pwrR8kfrA11B"
      },
      "source": [
        "In this notebook, you will implement ridge regression via gradient descent. You will:\n",
        "* Convert an SFrame into a Numpy array\n",
        "* Write a Numpy function to compute the derivative of the regression weights with respect to a single feature\n",
        "* Write gradient descent function to compute the regression weights given an initial weight vector, step size, tolerance, and L2 penalty"
      ]
    },
    {
      "cell_type": "markdown",
      "metadata": {
        "id": "8BfRJimtA11B"
      },
      "source": [
        "# Fire up Turi Create"
      ]
    },
    {
      "cell_type": "markdown",
      "metadata": {
        "id": "7S9a0GnwA11C"
      },
      "source": [
        "Make sure you have the latest version of Turi Create"
      ]
    },
    {
      "cell_type": "code",
      "metadata": {
        "id": "GKdYn4VbA11C"
      },
      "source": [
        "import turicreate"
      ],
      "execution_count": null,
      "outputs": []
    },
    {
      "cell_type": "markdown",
      "metadata": {
        "id": "pNOJdHG7A11H"
      },
      "source": [
        "# Load in house sales data\n",
        "\n",
        "Dataset is from house sales in King County, the region where the city of Seattle, WA is located."
      ]
    },
    {
      "cell_type": "code",
      "metadata": {
        "id": "nm40OZGaA11H"
      },
      "source": [
        "resource_dir = '/content/gdrive/My Drive/Turicreate/2 - ML - Regression/WEEK 4 - Ridge Regression/0 - Resources/'\n",
        "sales = turicreate.SFrame(resource_dir + 'home_data.sframe/')"
      ],
      "execution_count": null,
      "outputs": []
    },
    {
      "cell_type": "markdown",
      "metadata": {
        "id": "DQ1L71lqA11K"
      },
      "source": [
        "If we want to do any \"feature engineering\" like creating new features or adjusting existing ones we should do this directly using the SFrames as seen in the first notebook of Week 2. For this notebook, however, we will work with the existing features."
      ]
    },
    {
      "cell_type": "markdown",
      "metadata": {
        "id": "7On55BiqA11L"
      },
      "source": [
        "# Import useful functions from previous notebook"
      ]
    },
    {
      "cell_type": "markdown",
      "metadata": {
        "id": "629DIqP2A11L"
      },
      "source": [
        "As in Week 2, we convert the SFrame into a 2D Numpy array. Copy and paste `get_numpy_data()` from the second notebook of Week 2."
      ]
    },
    {
      "cell_type": "code",
      "metadata": {
        "id": "rQ8ZplDWA11M"
      },
      "source": [
        "import numpy as np # note this allows us to refer to numpy as np instead "
      ],
      "execution_count": null,
      "outputs": []
    },
    {
      "cell_type": "code",
      "metadata": {
        "id": "I82OiLaeA11O"
      },
      "source": [
        "def get_numpy_data(data_sframe, features, output):\n",
        "    data_sframe['constant'] = 1 # this is how you add a constant column to an SFrame\n",
        "\n",
        "    # add the column 'constant' to the front of the features list so that we can extract it along with the others:\n",
        "    features = ['constant'] + features # this is how you combine two lists\n",
        "\n",
        "    # select the columns of data_SFrame given by the features list into the SFrame features_sframe (now including constant):\n",
        "    features_sframe = data_sframe[features]\n",
        "\n",
        "    # the following line will convert the features_SFrame into a numpy matrix:\n",
        "    feature_matrix = features_sframe.to_numpy()\n",
        "\n",
        "    # assign the column of data_sframe associated with the output to the SArray output_sarray\n",
        "    output_sarray = data_sframe[output]\n",
        "\n",
        "    # the following will convert the SArray into a numpy array by first converting it to a list\n",
        "    output_array = output_sarray.to_numpy()\n",
        "\n",
        "    \n",
        "    return(feature_matrix, output_array)"
      ],
      "execution_count": null,
      "outputs": []
    },
    {
      "cell_type": "markdown",
      "metadata": {
        "id": "-rzKeUwTA11R"
      },
      "source": [
        "Also, copy and paste the `predict_output()` function to compute the predictions for an entire matrix of features given the matrix and the weights:"
      ]
    },
    {
      "cell_type": "code",
      "metadata": {
        "id": "Au5N6l5VA11S"
      },
      "source": [
        "def predict_output(feature_matrix, weights):\n",
        "    # assume feature_matrix is a numpy matrix containing the features as columns and weights is a corresponding numpy array\n",
        "    # create the predictions vector by using np.dot()\n",
        "    predictions = np.dot(feature_matrix, weights)\n",
        "\n",
        "    return(predictions)"
      ],
      "execution_count": null,
      "outputs": []
    },
    {
      "cell_type": "markdown",
      "metadata": {
        "id": "GAdG_esIA11U"
      },
      "source": [
        "# Computing the Derivative"
      ]
    },
    {
      "cell_type": "markdown",
      "metadata": {
        "id": "nvjFpSZ5A11V"
      },
      "source": [
        "We are now going to move to computing the derivative of the regression cost function. Recall that the cost function is the sum over the data points of the squared difference between an observed output and a predicted output, plus the L2 penalty term.\n",
        "```\n",
        "Cost(w)\n",
        "= SUM[ (prediction - output)^2 ]\n",
        "+ l2_penalty*(w[0]^2 + w[1]^2 + ... + w[k]^2).\n",
        "```\n",
        "\n",
        "Since the derivative of a sum is the sum of the derivatives, we can take the derivative of the first part (the RSS) as we did in the notebook for the unregularized case in Week 2 and add the derivative of the regularization part.  As we saw, the derivative of the RSS with respect to `w[i]` can be written as: \n",
        "```\n",
        "2*SUM[ error*[feature_i] ].\n",
        "```\n",
        "The derivative of the regularization term with respect to `w[i]` is:\n",
        "```\n",
        "2*l2_penalty*w[i].\n",
        "```\n",
        "Summing both, we get\n",
        "```\n",
        "2*SUM[ error*[feature_i] ] + 2*l2_penalty*w[i].\n",
        "```\n",
        "That is, the derivative for the weight for feature i is the sum (over data points) of 2 times the product of the error and the feature itself, plus `2*l2_penalty*w[i]`. \n",
        "\n",
        "**We will not regularize the constant.**  Thus, in the case of the constant, the derivative is just twice the sum of the errors (without the `2*l2_penalty*w[0]` term).\n",
        "\n",
        "Recall that twice the sum of the product of two vectors is just twice the dot product of the two vectors. Therefore the derivative for the weight for feature_i is just two times the dot product between the values of feature_i and the current errors, plus `2*l2_penalty*w[i]`.\n",
        "\n",
        "With this in mind complete the following derivative function which computes the derivative of the weight given the value of the feature (over all data points) and the errors (over all data points).  To decide when to we are dealing with the constant (so we don't regularize it) we added the extra parameter to the call `feature_is_constant` which you should set to `True` when computing the derivative of the constant and `False` otherwise."
      ]
    },
    {
      "cell_type": "code",
      "metadata": {
        "id": "LjWa5q6YA11W"
      },
      "source": [
        "def feature_derivative_ridge(errors, feature, weight, l2_penalty, feature_is_constant):\n",
        "    # If feature_is_constant is True, derivative is twice the dot product of errors and feature\n",
        "    if feature_is_constant == True:\n",
        "        derivative = 2 * np.dot(errors, feature)\n",
        "\n",
        "    # Otherwise, derivative is twice the dot product plus 2*l2_penalty*weight\n",
        "    else:\n",
        "        derivative = 2 * np.dot(errors, feature) + 2*(l2_penalty*weight)\n",
        "\n",
        "        \n",
        "    return derivative"
      ],
      "execution_count": null,
      "outputs": []
    },
    {
      "cell_type": "markdown",
      "metadata": {
        "id": "87WvXXrpA11Y"
      },
      "source": [
        "To test your feature derivartive run the following:"
      ]
    },
    {
      "cell_type": "code",
      "metadata": {
        "id": "JtfqOtH9A11Z",
        "outputId": "7e8438e8-5a4b-4264-e01c-4e5c05062b9d",
        "colab": {
          "base_uri": "https://localhost:8080/",
          "height": 101
        }
      },
      "source": [
        "(example_features, example_output) = get_numpy_data(sales, ['sqft_living'], 'price') \n",
        "my_weights = np.array([1., 10.])\n",
        "test_predictions = predict_output(example_features, my_weights) \n",
        "errors = test_predictions - example_output # prediction errors\n",
        "\n",
        "# next two lines should print the same values\n",
        "print feature_derivative_ridge(errors, example_features[:,1], my_weights[1], 1, False)\n",
        "print np.sum(errors*example_features[:,1])*2+20.\n",
        "print ''\n",
        "\n",
        "# next two lines should print the same values\n",
        "print feature_derivative_ridge(errors, example_features[:,0], my_weights[0], 1, True)\n",
        "print np.sum(errors)*2."
      ],
      "execution_count": null,
      "outputs": [
        {
          "output_type": "stream",
          "text": [
            "-56554166782350.0\n",
            "-56554166782350.0\n",
            "\n",
            "-22446749336.0\n",
            "-22446749336.0\n"
          ],
          "name": "stdout"
        }
      ]
    },
    {
      "cell_type": "markdown",
      "metadata": {
        "id": "kTtMmg2gA11b"
      },
      "source": [
        "# Gradient Descent"
      ]
    },
    {
      "cell_type": "markdown",
      "metadata": {
        "id": "9BXPKbUsA11b"
      },
      "source": [
        "Now we will write a function that performs a gradient descent. The basic premise is simple. Given a starting point we update the current weights by moving in the negative gradient direction. Recall that the gradient is the direction of *increase* and therefore the negative gradient is the direction of *decrease* and we're trying to *minimize* a cost function. \n",
        "\n",
        "The amount by which we move in the negative gradient *direction*  is called the 'step size'. We stop when we are 'sufficiently close' to the optimum. Unlike in Week 2, this time we will set a **maximum number of iterations** and take gradient steps until we reach this maximum number. If no maximum number is supplied, the maximum should be set 100 by default. (Use default parameter values in Python.)\n",
        "\n",
        "With this in mind, complete the following gradient descent function below using your derivative function above. For each step in the gradient descent, we update the weight for each feature before computing our stopping criteria."
      ]
    },
    {
      "cell_type": "code",
      "metadata": {
        "id": "hpTk4yhzCzT2"
      },
      "source": [
        "''' def ridge_regression_gradient_descent(feature_matrix, output, initial_weights, step_size, l2_penalty, max_iterations=100):\n",
        "    weights = np.array(initial_weights) # make sure it's a numpy array\n",
        "    \n",
        "    #while not reached maximum number of iterations:\n",
        "    while max_iterations > 0:\n",
        "        # compute the predictions based on feature_matrix and weights using your predict_output() function\n",
        "        predictions = predict_output(feature_matrix, weights)\n",
        "        # compute the errors as predictions - output\n",
        "        errors = predictions - output\n",
        "        for i in xrange(len(weights)): # loop over each weight\n",
        "            # Recall that feature_matrix[:,i] is the feature column associated with weights[i]\n",
        "            # compute the derivative for weight[i].\n",
        "            #(Remember: when i=0, you are computing the derivative of the constant!)\n",
        "            if i == 0:\n",
        "                feature_is_constant = True\n",
        "            else:\n",
        "                feature_is_constant = False\n",
        "            derivative = feature_derivative_ridge(errors, feature_matrix[:,i], weights[i], l2_penalty, feature_is_constant)\n",
        "\n",
        "            # subtract the step size times the derivative from the current weight\n",
        "            weights[i] = weights[i] - (step_size * derivative)\n",
        "        max_iterations -= 1            \n",
        "    return weights '''"
      ],
      "execution_count": null,
      "outputs": []
    },
    {
      "cell_type": "code",
      "metadata": {
        "id": "tv7I2hEaA11c"
      },
      "source": [
        "def ridge_regression_gradient_descent(feature_matrix, output, initial_weights, step_size, l2_penalty, max_iterations=100):\n",
        "    print 'Starting gradient descent with l2_penalty = ' + str(l2_penalty)\n",
        "    \n",
        "    weights = np.array(initial_weights) # make sure it's a numpy array\n",
        "    iteration = 0 # iteration counter\n",
        "    print_frequency = 1  # for adjusting frequency of debugging output\n",
        "    \n",
        "    #while not reached maximum number of iterations:\n",
        "    while max_iterations > 0:\n",
        "        '''iteration += 1  # increment iteration counter\n",
        "        ### === code section for adjusting frequency of debugging output. ===\n",
        "        if iteration == 10:\n",
        "            print_frequency = 10\n",
        "        if iteration == 100:\n",
        "            print_frequency = 100\n",
        "        if iteration % print_frequency == 0:\n",
        "            print('Iteration = ' + str(iteration))'''\n",
        "        ### === end code section ===\n",
        "        \n",
        "        # compute the predictions based on feature_matrix and weights using your predict_output() function\n",
        "        predictions = predict_output(feature_matrix, weights)\n",
        "\n",
        "        # compute the errors as predictions - output\n",
        "        errors = predictions - output\n",
        "\n",
        "        # from time to time, print the value of the cost function\n",
        "        '''if iteration % print_frequency == 0:\n",
        "            print 'Cost function = ', str(np.dot(errors,errors) + l2_penalty*(np.dot(weights,weights) - weights[0]**2))'''\n",
        "\n",
        "        for i in xrange(len(weights)): # loop over each weight\n",
        "            # Recall that feature_matrix[:,i] is the feature column associated with weights[i]\n",
        "            # compute the derivative for weight[i].\n",
        "            #(Remember: when i=0, you are computing the derivative of the constant!)\n",
        "            if i == 0:\n",
        "                feature_is_constant = True\n",
        "            else:\n",
        "                feature_is_constant = False\n",
        "                \n",
        "            derivative = feature_derivative_ridge(errors, feature_matrix[:,i], weights[i], l2_penalty, feature_is_constant)\n",
        "\n",
        "            # subtract the step size times the derivative from the current weight\n",
        "            weights[i] = weights[i] - (step_size * derivative)\n",
        "        max_iterations -= 1\n",
        "            \n",
        "    print 'Done with gradient descent at iteration ', iteration\n",
        "    print 'Learned weights = ', str(weights)\n",
        "    return weights"
      ],
      "execution_count": null,
      "outputs": []
    },
    {
      "cell_type": "markdown",
      "metadata": {
        "id": "h9CFIuPJA11e"
      },
      "source": [
        "# Visualizing effect of L2 penalty"
      ]
    },
    {
      "cell_type": "markdown",
      "metadata": {
        "id": "NK20r4ymA11e"
      },
      "source": [
        "The L2 penalty gets its name because it causes weights to have small L2 norms than otherwise. Let's see how large weights get penalized. Let us consider a simple model with 1 feature:"
      ]
    },
    {
      "cell_type": "code",
      "metadata": {
        "id": "SNSyvGTNA11f"
      },
      "source": [
        "simple_features = ['sqft_living']\n",
        "my_output = 'price'"
      ],
      "execution_count": null,
      "outputs": []
    },
    {
      "cell_type": "markdown",
      "metadata": {
        "id": "q3_GTrZHA11i"
      },
      "source": [
        "Let us split the dataset into training set and test set. Make sure to use `seed=0`:"
      ]
    },
    {
      "cell_type": "code",
      "metadata": {
        "id": "NKVz4WRUA11i"
      },
      "source": [
        "train_data,test_data = sales.random_split(.8,seed=0)"
      ],
      "execution_count": null,
      "outputs": []
    },
    {
      "cell_type": "markdown",
      "metadata": {
        "id": "jjMLL7r3A11k"
      },
      "source": [
        "In this part, we will only use `'sqft_living'` to predict `'price'`. Use the `get_numpy_data` function to get a Numpy versions of your data with only this feature, for both the `train_data` and the `test_data`. "
      ]
    },
    {
      "cell_type": "code",
      "metadata": {
        "id": "4XlHot46A11l"
      },
      "source": [
        "(simple_feature_matrix, output) = get_numpy_data(train_data, simple_features, my_output)\n",
        "(simple_test_feature_matrix, test_output) = get_numpy_data(test_data, simple_features, my_output)"
      ],
      "execution_count": null,
      "outputs": []
    },
    {
      "cell_type": "markdown",
      "metadata": {
        "id": "-xEUjUbIA11n"
      },
      "source": [
        "Let's set the parameters for our optimization:"
      ]
    },
    {
      "cell_type": "code",
      "metadata": {
        "id": "AbYLsBHCA11n"
      },
      "source": [
        "initial_weights = np.array([0., 0.])\n",
        "step_size = 1e-12\n",
        "max_iterations=1000"
      ],
      "execution_count": null,
      "outputs": []
    },
    {
      "cell_type": "markdown",
      "metadata": {
        "id": "0N76bk6xA11p"
      },
      "source": [
        "First, let's consider no regularization.  Set the `l2_penalty` to `0.0` and run your ridge regression algorithm to learn the weights of your model.  Call your weights:\n",
        "\n",
        "`simple_weights_0_penalty`\n",
        "\n",
        "we'll use them later."
      ]
    },
    {
      "cell_type": "code",
      "metadata": {
        "id": "um6wSQMJA11q",
        "outputId": "b448d99a-13c9-47ed-af94-baeb380b39da",
        "colab": {
          "base_uri": "https://localhost:8080/",
          "height": 84
        }
      },
      "source": [
        "simple_weights_0_penalty = ridge_regression_gradient_descent(simple_feature_matrix, output, \n",
        "                                                             initial_weights, step_size, \n",
        "                                                             0.0, max_iterations)\n",
        "print simple_weights_0_penalty"
      ],
      "execution_count": null,
      "outputs": [
        {
          "output_type": "stream",
          "text": [
            "Starting gradient descent with l2_penalty = 0.0\n",
            "Done with gradient descent at iteration  0\n",
            "Learned weights =  [-1.63113501e-01  2.63024369e+02]\n",
            "[-1.63113501e-01  2.63024369e+02]\n"
          ],
          "name": "stdout"
        }
      ]
    },
    {
      "cell_type": "markdown",
      "metadata": {
        "id": "sLGymSFoA11s"
      },
      "source": [
        "Next, let's consider high regularization.  Set the `l2_penalty` to `1e11` and run your ridge regression algorithm to learn the weights of your model.  Call your weights:\n",
        "\n",
        "`simple_weights_high_penalty`\n",
        "\n",
        "we'll use them later."
      ]
    },
    {
      "cell_type": "code",
      "metadata": {
        "id": "nGUArRXWA11t",
        "outputId": "0b0aa867-f833-45ae-bea3-ec5d8373677f",
        "colab": {
          "base_uri": "https://localhost:8080/",
          "height": 84
        }
      },
      "source": [
        "simple_weights_high_penalty = ridge_regression_gradient_descent(simple_feature_matrix, output, \n",
        "                                                             initial_weights, step_size, \n",
        "                                                             1e11, max_iterations)\n",
        "print simple_weights_high_penalty"
      ],
      "execution_count": null,
      "outputs": [
        {
          "output_type": "stream",
          "text": [
            "Starting gradient descent with l2_penalty = 1e+11\n",
            "Done with gradient descent at iteration  0\n",
            "Learned weights =  [  9.76730383 124.57217565]\n",
            "[  9.76730383 124.57217565]\n"
          ],
          "name": "stdout"
        }
      ]
    },
    {
      "cell_type": "markdown",
      "metadata": {
        "id": "0WXx7mj6A11v"
      },
      "source": [
        "This code will plot the two learned models.  (The blue line is for the model with no regularization and the red line is for the one with high regularization.)"
      ]
    },
    {
      "cell_type": "code",
      "metadata": {
        "id": "eTGVN6kNA11v",
        "outputId": "2af75f8e-61d9-4297-a58a-b4d3d245f301",
        "colab": {
          "base_uri": "https://localhost:8080/",
          "height": 370
        }
      },
      "source": [
        "import matplotlib.pyplot as plt\n",
        "%matplotlib inline\n",
        "plt.plot(simple_feature_matrix,output,'k.',\n",
        "         simple_feature_matrix,predict_output(simple_feature_matrix, simple_weights_0_penalty),'b-',\n",
        "        simple_feature_matrix,predict_output(simple_feature_matrix, simple_weights_high_penalty),'r-')"
      ],
      "execution_count": null,
      "outputs": [
        {
          "output_type": "execute_result",
          "data": {
            "text/plain": [
              "[<matplotlib.lines.Line2D at 0x7f161b04b790>,\n",
              " <matplotlib.lines.Line2D at 0x7f161b04b810>,\n",
              " <matplotlib.lines.Line2D at 0x7f161b055110>,\n",
              " <matplotlib.lines.Line2D at 0x7f161b055150>,\n",
              " <matplotlib.lines.Line2D at 0x7f161b055990>,\n",
              " <matplotlib.lines.Line2D at 0x7f161b055250>]"
            ]
          },
          "metadata": {
            "tags": []
          },
          "execution_count": 42
        },
        {
          "output_type": "display_data",
          "data": {
            "image/png": "[encoded data removed]",
            "text/plain": [
              "<Figure size 432x288 with 1 Axes>"
            ]
          },
          "metadata": {
            "tags": [],
            "needs_background": "light"
          }
        }
      ]
    },
    {
      "cell_type": "markdown",
      "metadata": {
        "id": "YmAIZltaA11x"
      },
      "source": [
        "Compute the RSS on the TEST data for the following three sets of weights:\n",
        "1. The initial weights (all zeros)\n",
        "2. The weights learned with no regularization\n",
        "3. The weights learned with high regularization\n",
        "\n",
        "Which weights perform best?"
      ]
    },
    {
      "cell_type": "code",
      "metadata": {
        "id": "y07YBQrcA11y",
        "outputId": "74b88184-9ce0-4e4f-9e28-072d19e821df",
        "colab": {
          "base_uri": "https://localhost:8080/",
          "height": 34
        }
      },
      "source": [
        "initial_predictions = predict_output(simple_test_feature_matrix, initial_weights)\n",
        "initial_residuals = test_output - initial_predictions\n",
        "initial_RSS = (initial_residuals **2).sum()\n",
        "print initial_RSS"
      ],
      "execution_count": null,
      "outputs": [
        {
          "output_type": "stream",
          "text": [
            "1784273282524564.0\n"
          ],
          "name": "stdout"
        }
      ]
    },
    {
      "cell_type": "code",
      "metadata": {
        "id": "DOGpFepHA110",
        "outputId": "a5160489-5c2f-4490-96cd-c695d79c2d64",
        "colab": {
          "base_uri": "https://localhost:8080/",
          "height": 34
        }
      },
      "source": [
        "no_regularization_predictions = predict_output(simple_test_feature_matrix, simple_weights_0_penalty)\n",
        "no_regularization_residuals = test_output - no_regularization_predictions\n",
        "no_regularization_RSS = (no_regularization_residuals **2).sum()\n",
        "print no_regularization_RSS"
      ],
      "execution_count": null,
      "outputs": [
        {
          "output_type": "stream",
          "text": [
            "275723634597546.75\n"
          ],
          "name": "stdout"
        }
      ]
    },
    {
      "cell_type": "code",
      "metadata": {
        "id": "DRJGxFhGA112",
        "outputId": "b38431fb-f22c-4aad-c14b-8902fe15d99e",
        "colab": {
          "base_uri": "https://localhost:8080/",
          "height": 34
        }
      },
      "source": [
        "regularization_predictions = predict_output(simple_test_feature_matrix, simple_weights_high_penalty)\n",
        "regularization_residuals = test_output - regularization_predictions\n",
        "regularization_RSS = (regularization_residuals **2).sum()\n",
        "print regularization_RSS"
      ],
      "execution_count": null,
      "outputs": [
        {
          "output_type": "stream",
          "text": [
            "694642100913950.1\n"
          ],
          "name": "stdout"
        }
      ]
    },
    {
      "cell_type": "markdown",
      "metadata": {
        "id": "yz1glXp4A114"
      },
      "source": [
        "***QUIZ QUESTIONS***\n",
        "1. What is the value of the coefficient for `sqft_living` that you learned with no regularization, rounded to 1 decimal place?  What about the one with high regularization?\n",
        "2. Comparing the lines you fit with the with no regularization versus high regularization, which one is steeper?\n",
        "3. What are the RSS on the test data for each of the set of weights above (initial, no regularization, high regularization)? \n"
      ]
    },
    {
      "cell_type": "markdown",
      "metadata": {
        "id": "PVMr-ExfA114"
      },
      "source": [
        "# Running a multiple regression with L2 penalty"
      ]
    },
    {
      "cell_type": "markdown",
      "metadata": {
        "id": "P0Gqpo5kA115"
      },
      "source": [
        "Let us now consider a model with 2 features: `['sqft_living', 'sqft_living15']`."
      ]
    },
    {
      "cell_type": "markdown",
      "metadata": {
        "id": "HmzTB2T9A115"
      },
      "source": [
        "First, create Numpy versions of your training and test data with these two features. "
      ]
    },
    {
      "cell_type": "code",
      "metadata": {
        "id": "nan2-1eRA115"
      },
      "source": [
        "model_features = ['sqft_living', 'sqft_living15'] # sqft_living15 is the average squarefeet for the nearest 15 neighbors. \n",
        "my_output = 'price'\n",
        "(feature_matrix, output) = get_numpy_data(train_data, model_features, my_output)\n",
        "(test_feature_matrix, test_output) = get_numpy_data(test_data, model_features, my_output)"
      ],
      "execution_count": null,
      "outputs": []
    },
    {
      "cell_type": "markdown",
      "metadata": {
        "id": "syDzsvdMA118"
      },
      "source": [
        "We need to re-inialize the weights, since we have one extra parameter. Let us also set the step size and maximum number of iterations."
      ]
    },
    {
      "cell_type": "code",
      "metadata": {
        "id": "CmGq8y3sA118"
      },
      "source": [
        "initial_weights = np.array([0.0,0.0,0.0])\n",
        "step_size = 1e-12\n",
        "max_iterations = 1000"
      ],
      "execution_count": null,
      "outputs": []
    },
    {
      "cell_type": "markdown",
      "metadata": {
        "id": "Day8DirKA11-"
      },
      "source": [
        "First, let's consider no regularization.  Set the `l2_penalty` to `0.0` and run your ridge regression algorithm to learn the weights of your model.  Call your weights:\n",
        "\n",
        "`multiple_weights_0_penalty`"
      ]
    },
    {
      "cell_type": "code",
      "metadata": {
        "id": "GYACxx5KA11_",
        "outputId": "e684ab9b-14b2-4aa6-9bee-055b22052d0e",
        "colab": {
          "base_uri": "https://localhost:8080/",
          "height": 84
        }
      },
      "source": [
        "multiple_weights_0_penalty = ridge_regression_gradient_descent(feature_matrix, output, \n",
        "                                                               initial_weights, step_size, \n",
        "                                                               0.0, max_iterations)\n",
        "print multiple_weights_0_penalty"
      ],
      "execution_count": null,
      "outputs": [
        {
          "output_type": "stream",
          "text": [
            "Starting gradient descent with l2_penalty = 0.0\n",
            "Done with gradient descent at iteration  0\n",
            "Learned weights =  [ -0.35743482 243.0541689   22.41481594]\n",
            "[ -0.35743482 243.0541689   22.41481594]\n"
          ],
          "name": "stdout"
        }
      ]
    },
    {
      "cell_type": "markdown",
      "metadata": {
        "id": "_1PxZY5CA12B"
      },
      "source": [
        "Next, let's consider high regularization.  Set the `l2_penalty` to `1e11` and run your ridge regression algorithm to learn the weights of your model.  Call your weights:\n",
        "\n",
        "`multiple_weights_high_penalty`"
      ]
    },
    {
      "cell_type": "code",
      "metadata": {
        "id": "VFKR0kdjA12B",
        "outputId": "053ba3ab-b549-4853-9326-688637a54558",
        "colab": {
          "base_uri": "https://localhost:8080/",
          "height": 84
        }
      },
      "source": [
        "multiple_weights_high_penalty = ridge_regression_gradient_descent(feature_matrix, output, \n",
        "                                                               initial_weights, step_size, \n",
        "                                                               1e11, max_iterations)\n",
        "print multiple_weights_high_penalty"
      ],
      "execution_count": null,
      "outputs": [
        {
          "output_type": "stream",
          "text": [
            "Starting gradient descent with l2_penalty = 1e+11\n",
            "Done with gradient descent at iteration  0\n",
            "Learned weights =  [ 6.7429658  91.48927361 78.43658768]\n",
            "[ 6.7429658  91.48927361 78.43658768]\n"
          ],
          "name": "stdout"
        }
      ]
    },
    {
      "cell_type": "markdown",
      "metadata": {
        "id": "vIEBsTsSA12C"
      },
      "source": [
        "Compute the RSS on the TEST data for the following three sets of weights:\n",
        "1. The initial weights (all zeros)\n",
        "2. The weights learned with no regularization\n",
        "3. The weights learned with high regularization\n",
        "\n",
        "Which weights perform best?"
      ]
    },
    {
      "cell_type": "code",
      "metadata": {
        "id": "w7XY1JKOA12D",
        "outputId": "0f21ecba-6035-4597-913d-75e95acef91a",
        "colab": {
          "base_uri": "https://localhost:8080/",
          "height": 34
        }
      },
      "source": [
        "initial_predictions = predict_output(test_feature_matrix, initial_weights)\n",
        "initial_residuals = test_output - initial_predictions\n",
        "initial_RSS = (initial_residuals **2).sum()\n",
        "print initial_RSS"
      ],
      "execution_count": null,
      "outputs": [
        {
          "output_type": "stream",
          "text": [
            "1784273282524564.0\n"
          ],
          "name": "stdout"
        }
      ]
    },
    {
      "cell_type": "code",
      "metadata": {
        "id": "GiL2hAWpA12E",
        "outputId": "c34b3edf-eafc-4ae4-9caf-51fe2cf6faaf",
        "colab": {
          "base_uri": "https://localhost:8080/",
          "height": 34
        }
      },
      "source": [
        "no_regularization_predictions = predict_output(test_feature_matrix, multiple_weights_0_penalty)\n",
        "no_regularization_residuals = test_output - no_regularization_predictions\n",
        "no_regularization_RSS = (no_regularization_residuals **2).sum()\n",
        "print no_regularization_RSS"
      ],
      "execution_count": null,
      "outputs": [
        {
          "output_type": "stream",
          "text": [
            "274067618287245.2\n"
          ],
          "name": "stdout"
        }
      ]
    },
    {
      "cell_type": "code",
      "metadata": {
        "id": "Vq4ePnZFA12G",
        "outputId": "2f070c13-2d3a-4c84-f593-d1b86d6724a2",
        "colab": {
          "base_uri": "https://localhost:8080/",
          "height": 34
        }
      },
      "source": [
        "regularization_predictions = predict_output(test_feature_matrix, multiple_weights_high_penalty)\n",
        "regularization_residuals = test_output - regularization_predictions\n",
        "regularization_RSS = (regularization_residuals **2).sum()\n",
        "print regularization_RSS"
      ],
      "execution_count": null,
      "outputs": [
        {
          "output_type": "stream",
          "text": [
            "500404800579555.56\n"
          ],
          "name": "stdout"
        }
      ]
    },
    {
      "cell_type": "markdown",
      "metadata": {
        "id": "napMXD_aA12H"
      },
      "source": [
        "Predict the house price for the 1st house in the test set using the no regularization and high regularization models. (Remember that python starts indexing from 0.) How far is the prediction from the actual price?  Which weights perform best for the 1st house?"
      ]
    },
    {
      "cell_type": "code",
      "metadata": {
        "id": "zAzlt0cqA12I",
        "outputId": "22582058-56e5-4d2d-bc57-d2afad8d5c2f",
        "colab": {
          "base_uri": "https://localhost:8080/",
          "height": 50
        }
      },
      "source": [
        "print no_regularization_predictions[0]\n",
        "print test_output[0] - no_regularization_predictions[0]"
      ],
      "execution_count": null,
      "outputs": [
        {
          "output_type": "stream",
          "text": [
            "387465.47646474396\n",
            "-77465.47646474396\n"
          ],
          "name": "stdout"
        }
      ]
    },
    {
      "cell_type": "code",
      "metadata": {
        "id": "D1I7vvWnA12J",
        "outputId": "6bc500b1-69d7-4976-eecb-d2d2e20d044e",
        "colab": {
          "base_uri": "https://localhost:8080/",
          "height": 50
        }
      },
      "source": [
        "print regularization_predictions[0]\n",
        "print test_output[0] - regularization_predictions[0]"
      ],
      "execution_count": null,
      "outputs": [
        {
          "output_type": "stream",
          "text": [
            "270453.5303048586\n",
            "39546.46969514142\n"
          ],
          "name": "stdout"
        }
      ]
    },
    {
      "cell_type": "markdown",
      "metadata": {
        "collapsed": true,
        "id": "HezdF7_gA12L"
      },
      "source": [
        "***QUIZ QUESTIONS***\n",
        "1. What is the value of the coefficient for `sqft_living` that you learned with no regularization, rounded to 1 decimal place?  What about the one with high regularization?\n",
        "2. What are the RSS on the test data for each of the set of weights above (initial, no regularization, high regularization)? \n",
        "3. We make prediction for the first house in the test set using two sets of weights (no regularization vs high regularization). Which weights make better prediction <u>for that particular house</u>?"
      ]
    },
    {
      "cell_type": "code",
      "metadata": {
        "id": "4H-Fe2nnA12L"
      },
      "source": [
        ""
      ],
      "execution_count": null,
      "outputs": []
    }
  ]
}