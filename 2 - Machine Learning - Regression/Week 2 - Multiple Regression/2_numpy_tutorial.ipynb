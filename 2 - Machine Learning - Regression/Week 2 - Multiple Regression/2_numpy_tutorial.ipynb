{
  "nbformat": 4,
  "nbformat_minor": 0,
  "metadata": {
    "kernelspec": {
      "display_name": "Python 2",
      "language": "python",
      "name": "python2"
    },
    "language_info": {
      "codemirror_mode": {
        "name": "ipython",
        "version": 2
      },
      "file_extension": ".py",
      "mimetype": "text/x-python",
      "name": "python",
      "nbconvert_exporter": "python",
      "pygments_lexer": "ipython2",
      "version": "2.7.15"
    },
    "colab": {
      "name": "2 - numpy-tutorial.ipynb",
      "provenance": [],
      "include_colab_link": true
    }
  },
  "cells": [
    {
      "cell_type": "markdown",
      "metadata": {
        "id": "view-in-github",
        "colab_type": "text"
      },
      "source": [
        "<a href=\"https://colab.research.google.com/github/Zuyuf/Machine_Learning_Specialization/blob/main/2%20-%20Machine%20Learning%20-%20Regression/Week%202%20-%20Multiple%20Regression/2_numpy_tutorial.ipynb\" target=\"_parent\"><img src=\"https://colab.research.google.com/assets/colab-badge.svg\" alt=\"Open In Colab\"/></a>"
      ]
    },
    {
      "cell_type": "markdown",
      "metadata": {
        "id": "iOxZaL4y-UAz"
      },
      "source": [
        "# Numpy Tutorial"
      ]
    },
    {
      "cell_type": "markdown",
      "metadata": {
        "id": "cxSjA2Im-UA6"
      },
      "source": [
        "Numpy is a computational library for Python that is optimized for operations on multi-dimensional arrays. In this notebook we will use numpy to work with 1-d arrays (often called vectors) and 2-d arrays (often called matrices).\n",
        "\n",
        "For a the full user guide and reference for numpy see: http://docs.scipy.org/doc/numpy/"
      ]
    },
    {
      "cell_type": "code",
      "metadata": {
        "id": "8lDx6UdP-UA9"
      },
      "source": [
        "import numpy as np # importing this way allows us to refer to numpy as np"
      ],
      "execution_count": 1,
      "outputs": []
    },
    {
      "cell_type": "markdown",
      "metadata": {
        "id": "jsdkszDx-UBO"
      },
      "source": [
        "# Creating Numpy Arrays"
      ]
    },
    {
      "cell_type": "markdown",
      "metadata": {
        "id": "u7ULC4FX-UBQ"
      },
      "source": [
        "New arrays can be made in several ways. We can take an existing list and convert it to a numpy array:"
      ]
    },
    {
      "cell_type": "code",
      "metadata": {
        "id": "IkP-vGGT-UBT",
        "outputId": "de4a3dad-93e4-4080-d315-ec9073915ca8",
        "colab": {
          "base_uri": "https://localhost:8080/",
          "height": 34
        }
      },
      "source": [
        "mylist = [1., 2., 3., 4.]\n",
        "mynparray = np.array(mylist)\n",
        "mynparray"
      ],
      "execution_count": 2,
      "outputs": [
        {
          "output_type": "execute_result",
          "data": {
            "text/plain": [
              "array([1., 2., 3., 4.])"
            ]
          },
          "metadata": {
            "tags": []
          },
          "execution_count": 2
        }
      ]
    },
    {
      "cell_type": "markdown",
      "metadata": {
        "id": "Pj-4vdEb-UBh"
      },
      "source": [
        "You can initialize an array (of any dimension) of all ones or all zeroes with the ones() and zeros() functions:"
      ]
    },
    {
      "cell_type": "code",
      "metadata": {
        "id": "Q_5lCMeC-UBl",
        "outputId": "40ebbea0-0463-42e7-9f7d-83b85a635528",
        "colab": {
          "base_uri": "https://localhost:8080/",
          "height": 34
        }
      },
      "source": [
        "one_vector = np.ones(4)\n",
        "print one_vector # using print removes the array() portion"
      ],
      "execution_count": 6,
      "outputs": [
        {
          "output_type": "stream",
          "text": [
            "[1. 1. 1. 1.]\n"
          ],
          "name": "stdout"
        }
      ]
    },
    {
      "cell_type": "code",
      "metadata": {
        "id": "nUc896qp-UBy",
        "outputId": "d2026f9f-ee52-4ed2-8535-6a038d844754",
        "colab": {
          "base_uri": "https://localhost:8080/",
          "height": 50
        }
      },
      "source": [
        "one2Darray = np.ones((2, 4)) # an 2D array with 2 \"rows\" and 4 \"columns\"\n",
        "print one2Darray"
      ],
      "execution_count": 7,
      "outputs": [
        {
          "output_type": "stream",
          "text": [
            "[[1. 1. 1. 1.]\n",
            " [1. 1. 1. 1.]]\n"
          ],
          "name": "stdout"
        }
      ]
    },
    {
      "cell_type": "code",
      "metadata": {
        "id": "qjTtbRel-UB_",
        "outputId": "5d19f7e7-3bad-4c7c-da5f-7ccbd7464971",
        "colab": {
          "base_uri": "https://localhost:8080/",
          "height": 34
        }
      },
      "source": [
        "zero_vector = np.zeros(4)\n",
        "print zero_vector"
      ],
      "execution_count": 8,
      "outputs": [
        {
          "output_type": "stream",
          "text": [
            "[0. 0. 0. 0.]\n"
          ],
          "name": "stdout"
        }
      ]
    },
    {
      "cell_type": "markdown",
      "metadata": {
        "id": "8qfW70s9-UCL"
      },
      "source": [
        "You can also initialize an empty array which will be filled with values. This is the fastest way to initialize a fixed-size numpy array however you must ensure that you replace all of the values."
      ]
    },
    {
      "cell_type": "code",
      "metadata": {
        "id": "81z5fpcI-UCO",
        "outputId": "72c429a3-f89b-4fc0-9493-1c75c6aa7763",
        "colab": {
          "base_uri": "https://localhost:8080/",
          "height": 34
        }
      },
      "source": [
        "empty_vector = np.empty(5)\n",
        "print empty_vector"
      ],
      "execution_count": 42,
      "outputs": [
        {
          "output_type": "stream",
          "text": [
            "[0.   0.25 0.5  0.75 1.  ]\n"
          ],
          "name": "stdout"
        }
      ]
    },
    {
      "cell_type": "markdown",
      "metadata": {
        "id": "pyEibWMJ-UCY"
      },
      "source": [
        "# Accessing array elements"
      ]
    },
    {
      "cell_type": "markdown",
      "metadata": {
        "id": "iQ5KVgyE-UCb"
      },
      "source": [
        "Accessing an array is straight forward. For vectors you access the index by referring to it inside square brackets. Recall that indices in Python start with 0."
      ]
    },
    {
      "cell_type": "code",
      "metadata": {
        "id": "4qpNzHUq-UCd",
        "outputId": "0540bc34-4573-49c8-d0f9-ad3ed13f82c2",
        "colab": {
          "base_uri": "https://localhost:8080/",
          "height": 34
        }
      },
      "source": [
        "mynparray[2]"
      ],
      "execution_count": 10,
      "outputs": [
        {
          "output_type": "execute_result",
          "data": {
            "text/plain": [
              "3.0"
            ]
          },
          "metadata": {
            "tags": []
          },
          "execution_count": 10
        }
      ]
    },
    {
      "cell_type": "markdown",
      "metadata": {
        "id": "Hh2zrzgQ-UCl"
      },
      "source": [
        "2D arrays are accessed similarly by referring to the row and column index separated by a comma:"
      ]
    },
    {
      "cell_type": "code",
      "metadata": {
        "id": "ctKC0UtA-UCn",
        "outputId": "2b584b6a-7352-4cd6-d9fd-fa6b725dec79",
        "colab": {
          "base_uri": "https://localhost:8080/",
          "height": 50
        }
      },
      "source": [
        "my_matrix = np.array([[1, 2, 3], [4, 5, 6]])\n",
        "print my_matrix"
      ],
      "execution_count": 11,
      "outputs": [
        {
          "output_type": "stream",
          "text": [
            "[[1 2 3]\n",
            " [4 5 6]]\n"
          ],
          "name": "stdout"
        }
      ]
    },
    {
      "cell_type": "code",
      "metadata": {
        "id": "PzfqXh3s-UCw",
        "outputId": "a0008660-8ea2-44ca-be07-1e998825694a",
        "colab": {
          "base_uri": "https://localhost:8080/",
          "height": 34
        }
      },
      "source": [
        "print my_matrix[1, 2]"
      ],
      "execution_count": 12,
      "outputs": [
        {
          "output_type": "stream",
          "text": [
            "6\n"
          ],
          "name": "stdout"
        }
      ]
    },
    {
      "cell_type": "markdown",
      "metadata": {
        "id": "YlAgXQkO-UC4"
      },
      "source": [
        "Sequences of indices can be accessed using ':' for example"
      ]
    },
    {
      "cell_type": "code",
      "metadata": {
        "id": "wE_G07UC-UC6",
        "outputId": "1465c306-ec61-4a19-c8e3-d60535260e7e",
        "colab": {
          "base_uri": "https://localhost:8080/",
          "height": 34
        }
      },
      "source": [
        "print my_matrix[0:2, 2] # recall 0:2 = [0, 1]"
      ],
      "execution_count": 13,
      "outputs": [
        {
          "output_type": "stream",
          "text": [
            "[3 6]\n"
          ],
          "name": "stdout"
        }
      ]
    },
    {
      "cell_type": "code",
      "metadata": {
        "id": "BGMF9gWe-UDB",
        "outputId": "0451e44c-d84f-4eaf-e09a-f986f09ee869",
        "colab": {
          "base_uri": "https://localhost:8080/",
          "height": 34
        }
      },
      "source": [
        "print my_matrix[0, 0:3]"
      ],
      "execution_count": 14,
      "outputs": [
        {
          "output_type": "stream",
          "text": [
            "[1 2 3]\n"
          ],
          "name": "stdout"
        }
      ]
    },
    {
      "cell_type": "markdown",
      "metadata": {
        "id": "6j4Bh1tZ-UDH"
      },
      "source": [
        "You can also pass a list of indices. "
      ]
    },
    {
      "cell_type": "code",
      "metadata": {
        "id": "CmzlxF59-UDJ",
        "outputId": "f4dfc41a-f39d-4db0-8fde-56c9338f7eb7",
        "colab": {
          "base_uri": "https://localhost:8080/",
          "height": 50
        }
      },
      "source": [
        "fib_indices = np.array([1, 1, 2, 3])\n",
        "random_vector = np.random.random(10) # 10 random numbers between 0 and 1\n",
        "print random_vector"
      ],
      "execution_count": 15,
      "outputs": [
        {
          "output_type": "stream",
          "text": [
            "[0.0706988  0.93184228 0.90567593 0.00456621 0.62107182 0.52601364\n",
            " 0.50090544 0.67991316 0.35864261 0.10237034]\n"
          ],
          "name": "stdout"
        }
      ]
    },
    {
      "cell_type": "code",
      "metadata": {
        "id": "84vyf197-UDP",
        "outputId": "be96abd5-3df3-4665-a7d0-eaeb1717ca51",
        "colab": {
          "base_uri": "https://localhost:8080/",
          "height": 34
        }
      },
      "source": [
        "print random_vector[fib_indices]"
      ],
      "execution_count": 16,
      "outputs": [
        {
          "output_type": "stream",
          "text": [
            "[0.93184228 0.93184228 0.90567593 0.00456621]\n"
          ],
          "name": "stdout"
        }
      ]
    },
    {
      "cell_type": "markdown",
      "metadata": {
        "id": "VPdqMcR0-UDU"
      },
      "source": [
        "You can also use true/false values to select values"
      ]
    },
    {
      "cell_type": "code",
      "metadata": {
        "id": "0QX1sJNl-UDV",
        "outputId": "4e290766-13a3-490a-9352-0f42cc145026",
        "colab": {
          "base_uri": "https://localhost:8080/",
          "height": 34
        }
      },
      "source": [
        "my_vector = np.array([1, 2, 3, 4])\n",
        "select_index = np.array([True, False, True, False])\n",
        "print my_vector[select_index]"
      ],
      "execution_count": 17,
      "outputs": [
        {
          "output_type": "stream",
          "text": [
            "[1 3]\n"
          ],
          "name": "stdout"
        }
      ]
    },
    {
      "cell_type": "markdown",
      "metadata": {
        "id": "ecpbv8pt-UDb"
      },
      "source": [
        "For 2D arrays you can select specific columns and specific rows. Passing ':' selects all rows/columns"
      ]
    },
    {
      "cell_type": "code",
      "metadata": {
        "id": "cOhvYDGi-UDc"
      },
      "source": [
        "select_cols = np.array([True, False, True]) # 1st and 3rd column\n",
        "select_rows = np.array([False, True]) # 2nd row"
      ],
      "execution_count": 18,
      "outputs": []
    },
    {
      "cell_type": "code",
      "metadata": {
        "id": "bioYrNCQ-UDj",
        "outputId": "34843056-0dfc-4b97-dd6e-7ab46716c86a",
        "colab": {
          "base_uri": "https://localhost:8080/",
          "height": 34
        }
      },
      "source": [
        "print my_matrix[select_rows, :] # just 2nd row but all columns"
      ],
      "execution_count": 19,
      "outputs": [
        {
          "output_type": "stream",
          "text": [
            "[[4 5 6]]\n"
          ],
          "name": "stdout"
        }
      ]
    },
    {
      "cell_type": "code",
      "metadata": {
        "id": "nGc6iihy-UDo",
        "outputId": "e503a11e-1750-4946-b852-4de1db4e74ac",
        "colab": {
          "base_uri": "https://localhost:8080/",
          "height": 50
        }
      },
      "source": [
        "print my_matrix[:, select_cols] # all rows and just the 1st and 3rd column"
      ],
      "execution_count": 20,
      "outputs": [
        {
          "output_type": "stream",
          "text": [
            "[[1 3]\n",
            " [4 6]]\n"
          ],
          "name": "stdout"
        }
      ]
    },
    {
      "cell_type": "markdown",
      "metadata": {
        "id": "fVjza_1_-UDt"
      },
      "source": [
        "# Operations on Arrays"
      ]
    },
    {
      "cell_type": "markdown",
      "metadata": {
        "id": "oER686hB-UDt"
      },
      "source": [
        "You can use the operations '\\*', '\\*\\*', '\\\\', '+' and '-' on numpy arrays and they operate elementwise."
      ]
    },
    {
      "cell_type": "code",
      "metadata": {
        "id": "GI9Q3aGq-UDu",
        "outputId": "e8fd5edc-706c-46e5-e447-5a223b53ad95",
        "colab": {
          "base_uri": "https://localhost:8080/",
          "height": 34
        }
      },
      "source": [
        "my_array = np.array([1., 2., 3., 4.])\n",
        "print my_array*my_array"
      ],
      "execution_count": 21,
      "outputs": [
        {
          "output_type": "stream",
          "text": [
            "[ 1.  4.  9. 16.]\n"
          ],
          "name": "stdout"
        }
      ]
    },
    {
      "cell_type": "code",
      "metadata": {
        "id": "36wTeMAd-UDz",
        "outputId": "7ab54f37-dad4-44cb-a90c-34174d34bc27",
        "colab": {
          "base_uri": "https://localhost:8080/",
          "height": 34
        }
      },
      "source": [
        "print my_array**2"
      ],
      "execution_count": 22,
      "outputs": [
        {
          "output_type": "stream",
          "text": [
            "[ 1.  4.  9. 16.]\n"
          ],
          "name": "stdout"
        }
      ]
    },
    {
      "cell_type": "code",
      "metadata": {
        "id": "Lgmpcd0f-UD3",
        "outputId": "c3fc793c-e1ba-4556-f714-fe10e66d9185",
        "colab": {
          "base_uri": "https://localhost:8080/",
          "height": 34
        }
      },
      "source": [
        "print my_array - np.ones(4)"
      ],
      "execution_count": 23,
      "outputs": [
        {
          "output_type": "stream",
          "text": [
            "[0. 1. 2. 3.]\n"
          ],
          "name": "stdout"
        }
      ]
    },
    {
      "cell_type": "code",
      "metadata": {
        "id": "1LcrD-Vh-UD8",
        "outputId": "94f7297c-1bdc-421d-a1be-de0bd7cc7f7c",
        "colab": {
          "base_uri": "https://localhost:8080/",
          "height": 34
        }
      },
      "source": [
        "print my_array + np.ones(4)"
      ],
      "execution_count": 24,
      "outputs": [
        {
          "output_type": "stream",
          "text": [
            "[2. 3. 4. 5.]\n"
          ],
          "name": "stdout"
        }
      ]
    },
    {
      "cell_type": "code",
      "metadata": {
        "id": "DqAJP4hd-UEC",
        "outputId": "cf9223bd-09d2-41a9-b9bc-098d0f914d88",
        "colab": {
          "base_uri": "https://localhost:8080/",
          "height": 34
        }
      },
      "source": [
        "print my_array / 3"
      ],
      "execution_count": 25,
      "outputs": [
        {
          "output_type": "stream",
          "text": [
            "[0.33333333 0.66666667 1.         1.33333333]\n"
          ],
          "name": "stdout"
        }
      ]
    },
    {
      "cell_type": "code",
      "metadata": {
        "id": "cuCbKZHB-UEG",
        "outputId": "72d49931-2f23-4c96-f02e-2cf25ff3f5d3",
        "colab": {
          "base_uri": "https://localhost:8080/",
          "height": 34
        }
      },
      "source": [
        "print my_array / np.array([2., 3., 4., 5.]) # = [1.0/2.0, 2.0/3.0, 3.0/4.0, 4.0/5.0]"
      ],
      "execution_count": 26,
      "outputs": [
        {
          "output_type": "stream",
          "text": [
            "[0.5        0.66666667 0.75       0.8       ]\n"
          ],
          "name": "stdout"
        }
      ]
    },
    {
      "cell_type": "markdown",
      "metadata": {
        "id": "AoaXLQLq-UEM"
      },
      "source": [
        "You can compute the sum with np.sum() and the average with np.average()"
      ]
    },
    {
      "cell_type": "code",
      "metadata": {
        "id": "__oYLc8z-UEN",
        "outputId": "58c45e0a-3966-4a97-91a3-65f49f9a8f0d",
        "colab": {
          "base_uri": "https://localhost:8080/",
          "height": 34
        }
      },
      "source": [
        "print np.sum(my_array)"
      ],
      "execution_count": 27,
      "outputs": [
        {
          "output_type": "stream",
          "text": [
            "10.0\n"
          ],
          "name": "stdout"
        }
      ]
    },
    {
      "cell_type": "code",
      "metadata": {
        "id": "aMpdzMcD-UEQ",
        "outputId": "86e514eb-1854-4b8d-f354-dbfe2f1300df",
        "colab": {
          "base_uri": "https://localhost:8080/",
          "height": 34
        }
      },
      "source": [
        "print np.average(my_array)"
      ],
      "execution_count": 28,
      "outputs": [
        {
          "output_type": "stream",
          "text": [
            "2.5\n"
          ],
          "name": "stdout"
        }
      ]
    },
    {
      "cell_type": "code",
      "metadata": {
        "id": "y-OXAdzK-UES",
        "outputId": "9ed22395-76d3-42f7-815d-71c4dfc360ef",
        "colab": {
          "base_uri": "https://localhost:8080/",
          "height": 34
        }
      },
      "source": [
        "print np.sum(my_array)/len(my_array)"
      ],
      "execution_count": 29,
      "outputs": [
        {
          "output_type": "stream",
          "text": [
            "2.5\n"
          ],
          "name": "stdout"
        }
      ]
    },
    {
      "cell_type": "markdown",
      "metadata": {
        "id": "M96Nwt5z-UEV"
      },
      "source": [
        "# The dot product"
      ]
    },
    {
      "cell_type": "markdown",
      "metadata": {
        "id": "R5DxJDdV-UEW"
      },
      "source": [
        "An important mathematical operation in linear algebra is the dot product. \n",
        "\n",
        "When we compute the dot product between two vectors we are simply multiplying them elementwise and adding them up. In numpy you can do this with np.dot()"
      ]
    },
    {
      "cell_type": "code",
      "metadata": {
        "id": "IopR2TdB-UEW",
        "outputId": "c3922a54-05a9-421e-c2eb-4b0958bf9a44",
        "colab": {
          "base_uri": "https://localhost:8080/",
          "height": 34
        }
      },
      "source": [
        "array1 = np.array([1., 2., 3., 4.])\n",
        "array2 = np.array([2., 3., 4., 5.])\n",
        "print np.dot(array1, array2)"
      ],
      "execution_count": 30,
      "outputs": [
        {
          "output_type": "stream",
          "text": [
            "40.0\n"
          ],
          "name": "stdout"
        }
      ]
    },
    {
      "cell_type": "code",
      "metadata": {
        "id": "ULMysXta-UEa",
        "outputId": "57616ada-b74c-4fd5-a079-9f8a5a38175c",
        "colab": {
          "base_uri": "https://localhost:8080/",
          "height": 34
        }
      },
      "source": [
        "print np.sum(array1*array2)"
      ],
      "execution_count": 31,
      "outputs": [
        {
          "output_type": "stream",
          "text": [
            "40.0\n"
          ],
          "name": "stdout"
        }
      ]
    },
    {
      "cell_type": "markdown",
      "metadata": {
        "id": "a6eqzrh4-UEd"
      },
      "source": [
        "Recall that the Euclidean length (or magnitude) of a vector is the squareroot of the sum of the squares of the components. This is just the squareroot of the dot product of the vector with itself:"
      ]
    },
    {
      "cell_type": "code",
      "metadata": {
        "id": "LUEDcnD5-UEd",
        "outputId": "3ca54028-ea93-44b3-8ace-18802d042984",
        "colab": {
          "base_uri": "https://localhost:8080/",
          "height": 34
        }
      },
      "source": [
        "array1_mag = np.sqrt(np.dot(array1, array1))\n",
        "print array1_mag"
      ],
      "execution_count": 32,
      "outputs": [
        {
          "output_type": "stream",
          "text": [
            "5.477225575051661\n"
          ],
          "name": "stdout"
        }
      ]
    },
    {
      "cell_type": "code",
      "metadata": {
        "id": "YC3yqOCn-UEg",
        "outputId": "a48183a7-8206-477c-8632-5db5f0fc2433",
        "colab": {
          "base_uri": "https://localhost:8080/",
          "height": 34
        }
      },
      "source": [
        "print np.sqrt(np.sum(array1*array1))"
      ],
      "execution_count": 33,
      "outputs": [
        {
          "output_type": "stream",
          "text": [
            "5.477225575051661\n"
          ],
          "name": "stdout"
        }
      ]
    },
    {
      "cell_type": "markdown",
      "metadata": {
        "id": "0xDywoAm-UEj"
      },
      "source": [
        "We can also use the dot product when we have a 2D array (or matrix). When you have an vector with the same number of elements as the matrix (2D array) has columns you can right-multiply the matrix by the vector to get another vector with the same number of elements as the matrix has rows. For example this is how you compute the predicted values given a matrix of features and an array of weights."
      ]
    },
    {
      "cell_type": "code",
      "metadata": {
        "id": "bFkPO4EB-UEj",
        "outputId": "f128c965-e799-4333-e62b-9f5000685472",
        "colab": {
          "base_uri": "https://localhost:8080/",
          "height": 84
        }
      },
      "source": [
        "my_features = np.array([[1., 2.], [3., 4.], [5., 6.], [7., 8.]])\n",
        "print my_features"
      ],
      "execution_count": 34,
      "outputs": [
        {
          "output_type": "stream",
          "text": [
            "[[1. 2.]\n",
            " [3. 4.]\n",
            " [5. 6.]\n",
            " [7. 8.]]\n"
          ],
          "name": "stdout"
        }
      ]
    },
    {
      "cell_type": "code",
      "metadata": {
        "id": "UeAURkLh-UEm",
        "outputId": "af4f37d6-7067-49d8-a519-e5bd5c3f007e",
        "colab": {
          "base_uri": "https://localhost:8080/",
          "height": 34
        }
      },
      "source": [
        "my_weights = np.array([0.4, 0.5])\n",
        "print my_weights"
      ],
      "execution_count": 35,
      "outputs": [
        {
          "output_type": "stream",
          "text": [
            "[0.4 0.5]\n"
          ],
          "name": "stdout"
        }
      ]
    },
    {
      "cell_type": "code",
      "metadata": {
        "id": "QUWKFNv_-UEo",
        "outputId": "f94fc7a2-9abc-4388-edc2-d7c2deaee49e",
        "colab": {
          "base_uri": "https://localhost:8080/",
          "height": 34
        }
      },
      "source": [
        "my_predictions = np.dot(my_features, my_weights) # note that the weights are on the right\n",
        "print my_predictions # which has 4 elements since my_features has 4 rows"
      ],
      "execution_count": 36,
      "outputs": [
        {
          "output_type": "stream",
          "text": [
            "[1.4 3.2 5.  6.8]\n"
          ],
          "name": "stdout"
        }
      ]
    },
    {
      "cell_type": "markdown",
      "metadata": {
        "id": "Rlmx0TEp-UEs"
      },
      "source": [
        "Similarly if you have a vector with the same number of elements as the matrix has *rows* you can left multiply them."
      ]
    },
    {
      "cell_type": "code",
      "metadata": {
        "id": "c2ss9V8h-UEs"
      },
      "source": [
        "my_matrix = my_features\n",
        "my_array = np.array([0.3, 0.4, 0.5, 0.6])"
      ],
      "execution_count": 37,
      "outputs": []
    },
    {
      "cell_type": "code",
      "metadata": {
        "id": "EAcwjaZT-UEv",
        "outputId": "759ff7ee-b441-463e-9e49-024ed7223741",
        "colab": {
          "base_uri": "https://localhost:8080/",
          "height": 34
        }
      },
      "source": [
        "print np.dot(my_array, my_matrix) # which has 2 elements because my_matrix has 2 columns"
      ],
      "execution_count": 38,
      "outputs": [
        {
          "output_type": "stream",
          "text": [
            "[ 8.2 10. ]\n"
          ],
          "name": "stdout"
        }
      ]
    },
    {
      "cell_type": "markdown",
      "metadata": {
        "id": "A6cF2Gw_-UEz"
      },
      "source": [
        "# Multiplying Matrices"
      ]
    },
    {
      "cell_type": "markdown",
      "metadata": {
        "id": "zyTlJPii-UE0"
      },
      "source": [
        "If we have two 2D arrays (matrices) matrix_1 and matrix_2 where the number of columns of matrix_1 is the same as the number of rows of matrix_2 then we can use np.dot() to perform matrix multiplication."
      ]
    },
    {
      "cell_type": "code",
      "metadata": {
        "id": "yRBWxpXz-UE1",
        "outputId": "f6a934d9-b6a3-40ea-cec2-c928bdfbac48",
        "colab": {
          "base_uri": "https://localhost:8080/",
          "height": 50
        }
      },
      "source": [
        "matrix_1 = np.array([[1., 2., 3.],[4., 5., 6.]])\n",
        "print matrix_1"
      ],
      "execution_count": 39,
      "outputs": [
        {
          "output_type": "stream",
          "text": [
            "[[1. 2. 3.]\n",
            " [4. 5. 6.]]\n"
          ],
          "name": "stdout"
        }
      ]
    },
    {
      "cell_type": "code",
      "metadata": {
        "id": "5W4OhkSK-UE4",
        "outputId": "fdb0180b-5361-42b2-cb8f-5f13cc2a9976",
        "colab": {
          "base_uri": "https://localhost:8080/",
          "height": 67
        }
      },
      "source": [
        "matrix_2 = np.array([[1., 2.], [3., 4.], [5., 6.]])\n",
        "print matrix_2"
      ],
      "execution_count": 40,
      "outputs": [
        {
          "output_type": "stream",
          "text": [
            "[[1. 2.]\n",
            " [3. 4.]\n",
            " [5. 6.]]\n"
          ],
          "name": "stdout"
        }
      ]
    },
    {
      "cell_type": "code",
      "metadata": {
        "id": "zoWNfj1Z-UE-",
        "outputId": "40ba3d1c-58f0-4ce1-d54a-1b182031edb9",
        "colab": {
          "base_uri": "https://localhost:8080/",
          "height": 50
        }
      },
      "source": [
        "print np.dot(matrix_1, matrix_2)"
      ],
      "execution_count": 41,
      "outputs": [
        {
          "output_type": "stream",
          "text": [
            "[[22. 28.]\n",
            " [49. 64.]]\n"
          ],
          "name": "stdout"
        }
      ]
    }
  ]
}