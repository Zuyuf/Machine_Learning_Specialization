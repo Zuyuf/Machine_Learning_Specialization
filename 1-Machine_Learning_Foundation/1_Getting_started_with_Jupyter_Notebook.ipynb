{
  "nbformat": 4,
  "nbformat_minor": 0,
  "metadata": {
    "kernelspec": {
      "display_name": "Python 3",
      "language": "python",
      "name": "python3"
    },
    "language_info": {
      "codemirror_mode": {
        "name": "ipython",
        "version": 3
      },
      "file_extension": ".py",
      "mimetype": "text/x-python",
      "name": "python",
      "nbconvert_exporter": "python",
      "pygments_lexer": "ipython3",
      "version": "3.5.2"
    },
    "colab": {
      "name": "1 Getting started with Jupyter Notebook.ipynb",
      "provenance": [],
      "collapsed_sections": []
    }
  },
  "cells": [
    {
      "cell_type": "markdown",
      "metadata": {
        "id": "1VH5gRpd8dRQ"
      },
      "source": [
        "# Installing Python and Turi Create"
      ]
    },
    {
      "cell_type": "markdown",
      "metadata": {
        "id": "-Gl7o5UG8dRY"
      },
      "source": [
        "Please follow the installation instructions [here](https://www.coursera.org/learn/ml-foundations/supplement/5HQGl/reading-getting-started-with-python-jupyter-notebook-turi-create) before getting started:\n",
        "\n",
        "\n",
        "## So far, we have\n",
        "* Installed Python\n",
        "* Started Jupyter Notebook"
      ]
    },
    {
      "cell_type": "markdown",
      "metadata": {
        "id": "rEToxinG8dRb"
      },
      "source": [
        "# Getting started with Python"
      ]
    },
    {
      "cell_type": "code",
      "metadata": {
        "id": "W4pyJ14q8dRe"
      },
      "source": [
        "print('Hello World!')"
      ],
      "execution_count": null,
      "outputs": []
    },
    {
      "cell_type": "markdown",
      "metadata": {
        "id": "30Vnftxb8dR0"
      },
      "source": [
        "## Create some variables in Python"
      ]
    },
    {
      "cell_type": "code",
      "metadata": {
        "id": "aI0sWrXJ8dR4"
      },
      "source": [
        "i = 4  #int"
      ],
      "execution_count": null,
      "outputs": []
    },
    {
      "cell_type": "code",
      "metadata": {
        "id": "_rc7D35H8dSJ"
      },
      "source": [
        "type(i)"
      ],
      "execution_count": null,
      "outputs": []
    },
    {
      "cell_type": "code",
      "metadata": {
        "id": "h8Gh2wHo8dSY"
      },
      "source": [
        "f = 4.1  #float"
      ],
      "execution_count": null,
      "outputs": []
    },
    {
      "cell_type": "code",
      "metadata": {
        "id": "uBsM1J5L8dSk"
      },
      "source": [
        "type(f)"
      ],
      "execution_count": null,
      "outputs": []
    },
    {
      "cell_type": "code",
      "metadata": {
        "id": "Tx-KlKGt8dSz"
      },
      "source": [
        "b = True  #boolean variable"
      ],
      "execution_count": null,
      "outputs": []
    },
    {
      "cell_type": "code",
      "metadata": {
        "id": "F1wmYsb28dTB"
      },
      "source": [
        "s = \"This is a string!\""
      ],
      "execution_count": null,
      "outputs": []
    },
    {
      "cell_type": "code",
      "metadata": {
        "id": "X1n91P7V8dTL"
      },
      "source": [
        "print(s)"
      ],
      "execution_count": null,
      "outputs": []
    },
    {
      "cell_type": "markdown",
      "metadata": {
        "id": "U3wen7pW8dTT"
      },
      "source": [
        "## Advanced python types"
      ]
    },
    {
      "cell_type": "code",
      "metadata": {
        "id": "MvlF414I8dTV"
      },
      "source": [
        "l = [3,1,2]  #list"
      ],
      "execution_count": null,
      "outputs": []
    },
    {
      "cell_type": "code",
      "metadata": {
        "id": "GqA0WteR8dTc"
      },
      "source": [
        "print(l)"
      ],
      "execution_count": null,
      "outputs": []
    },
    {
      "cell_type": "code",
      "metadata": {
        "id": "iCvOxT3O8dTi"
      },
      "source": [
        "d = {'foo':1, 'bar':2.3, 's':'my first dictionary'}  #dictionary"
      ],
      "execution_count": null,
      "outputs": []
    },
    {
      "cell_type": "code",
      "metadata": {
        "id": "RDU7TxH88dTp"
      },
      "source": [
        "print(d)"
      ],
      "execution_count": null,
      "outputs": []
    },
    {
      "cell_type": "code",
      "metadata": {
        "id": "Wmsub9Tu8dTt"
      },
      "source": [
        "print(d['foo'])  #element of a dictionary"
      ],
      "execution_count": null,
      "outputs": []
    },
    {
      "cell_type": "code",
      "metadata": {
        "id": "7YsS-MzC8dTz"
      },
      "source": [
        "n = None  #Python's null type"
      ],
      "execution_count": null,
      "outputs": []
    },
    {
      "cell_type": "code",
      "metadata": {
        "id": "AkceLjlF8dT4"
      },
      "source": [
        "type(n)"
      ],
      "execution_count": null,
      "outputs": []
    },
    {
      "cell_type": "markdown",
      "metadata": {
        "id": "Iz8PfWmb8dT9"
      },
      "source": [
        "## Advanced printing"
      ]
    },
    {
      "cell_type": "code",
      "metadata": {
        "id": "kTBgcnO28dT-"
      },
      "source": [
        "print(\"Our float value is %s. Our int value is %s.\" % (f,i))  #Python is pretty good with strings"
      ],
      "execution_count": null,
      "outputs": []
    },
    {
      "cell_type": "markdown",
      "metadata": {
        "id": "To04_ND18dUF"
      },
      "source": [
        "## Conditional statements in python"
      ]
    },
    {
      "cell_type": "code",
      "metadata": {
        "id": "RMiLvHXA8dUG"
      },
      "source": [
        "if i == 1 and f > 4:\n",
        "    print(\"The value of i is 1 and f is greater than 4.\")\n",
        "elif i > 4 or f > 4:\n",
        "    print(\"i or f are both greater than 4.\")\n",
        "else:\n",
        "    print(\"both i and f are less than or equal to 4\")\n"
      ],
      "execution_count": null,
      "outputs": []
    },
    {
      "cell_type": "markdown",
      "metadata": {
        "id": "k_hfaD6t8dUL"
      },
      "source": [
        "## Conditional loops"
      ]
    },
    {
      "cell_type": "code",
      "metadata": {
        "id": "mqDsB6US8dUM"
      },
      "source": [
        "print(l)"
      ],
      "execution_count": null,
      "outputs": []
    },
    {
      "cell_type": "code",
      "metadata": {
        "id": "m6V7CmCM8dUT"
      },
      "source": [
        "for e in l:\n",
        "    print(e)"
      ],
      "execution_count": null,
      "outputs": []
    },
    {
      "cell_type": "markdown",
      "metadata": {
        "id": "K-Hb0sXT8dUW"
      },
      "source": [
        "Note that in Python, we don't use {} or other markers to indicate the part of the loop that gets iterated.  Instead, we just indent and align each of the iterated statements with spaces or tabs. (You can use as many as you want, as long as the lines are aligned.)"
      ]
    },
    {
      "cell_type": "code",
      "metadata": {
        "id": "h17wb9de8dUW"
      },
      "source": [
        "counter = 6\n",
        "while counter < 10:\n",
        "    print(counter)\n",
        "    counter += 1"
      ],
      "execution_count": null,
      "outputs": []
    },
    {
      "cell_type": "markdown",
      "metadata": {
        "collapsed": true,
        "id": "F6V0PUDg8dUa"
      },
      "source": [
        "# Creating functions in Python\n",
        "\n",
        "Again, we don't use {}, but just indent the lines that are part of the function."
      ]
    },
    {
      "cell_type": "code",
      "metadata": {
        "id": "HYLgV9J48dUb"
      },
      "source": [
        "def add2(x):\n",
        "    y = x + 2\n",
        "    return y"
      ],
      "execution_count": null,
      "outputs": []
    },
    {
      "cell_type": "code",
      "metadata": {
        "id": "S2qwXaB18dUd"
      },
      "source": [
        "i = 5"
      ],
      "execution_count": null,
      "outputs": []
    },
    {
      "cell_type": "code",
      "metadata": {
        "id": "oThOPWxR8dUh"
      },
      "source": [
        "add2(i)"
      ],
      "execution_count": null,
      "outputs": []
    },
    {
      "cell_type": "markdown",
      "metadata": {
        "id": "WYz_4VYk8dUk"
      },
      "source": [
        "We can also define simple functions with lambdas:"
      ]
    },
    {
      "cell_type": "code",
      "metadata": {
        "id": "u0iyNWWk8dUm"
      },
      "source": [
        "square = lambda x: x*x"
      ],
      "execution_count": null,
      "outputs": []
    },
    {
      "cell_type": "code",
      "metadata": {
        "id": "DuOp-wYG8dUp"
      },
      "source": [
        ""
      ],
      "execution_count": null,
      "outputs": []
    }
  ]
}